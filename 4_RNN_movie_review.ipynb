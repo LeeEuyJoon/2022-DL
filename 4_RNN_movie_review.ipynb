{
 "cells": [
  {
   "cell_type": "markdown",
   "metadata": {},
   "source": [
    "# [RNN으로 영화평 감성 분석하기]"
   ]
  },
  {
   "cell_type": "code",
   "execution_count": 1,
   "metadata": {},
   "outputs": [],
   "source": [
    "# 패키지 수입\n",
    "import numpy as np\n",
    "from keras.datasets import imdb\n",
    "from keras.preprocessing.sequence import pad_sequences\n",
    "from time import time\n",
    "\n",
    "from keras.models import Sequential\n",
    "from keras.layers import Embedding, LSTM, Dense\n",
    "from sklearn.metrics import confusion_matrix, f1_score\n"
   ]
  },
  {
   "cell_type": "code",
   "execution_count": 2,
   "metadata": {},
   "outputs": [],
   "source": [
    "# 하이퍼 파라미터 설정\n",
    "MY_WORDS = 5000     # 사전 안에 단어 수 (데이터셋 안에 사용 빈도수가 높은 5000개)\n",
    "MY_LEN = 80         #  영화평 통일 길이 (영화평 길이가 다르면 학습이 안됨)\n",
    "MY_EMBED = 32       # 임베딩 차원\n",
    "MY_HIDDEN = 64      # LSTM의 차원\n",
    "\n",
    "MY_EPOCH = 10       # 반복 학습 수\n",
    "MY_BATCH = 200      # 한번에 처리하는 데이터 수"
   ]
  },
  {
   "cell_type": "code",
   "execution_count": 3,
   "metadata": {},
   "outputs": [
    {
     "name": "stdout",
     "output_type": "stream",
     "text": [
      "학습용 데이터 0번 영화평: [1, 14, 22, 16, 43, 530, 973, 1622, 1385, 65, 458, 4468, 66, 3941, 4, 173, 36, 256, 5, 25, 100, 43, 838, 112, 50, 670, 2, 9, 35, 480, 284, 5, 150, 4, 172, 112, 167, 2, 336, 385, 39, 4, 172, 4536, 1111, 17, 546, 38, 13, 447, 4, 192, 50, 16, 6, 147, 2025, 19, 14, 22, 4, 1920, 4613, 469, 4, 22, 71, 87, 12, 16, 43, 530, 38, 76, 15, 13, 1247, 4, 22, 17, 515, 17, 12, 16, 626, 18, 2, 5, 62, 386, 12, 8, 316, 8, 106, 5, 4, 2223, 2, 16, 480, 66, 3785, 33, 4, 130, 12, 16, 38, 619, 5, 25, 124, 51, 36, 135, 48, 25, 1415, 33, 6, 22, 12, 215, 28, 77, 52, 5, 14, 407, 16, 82, 2, 8, 4, 107, 117, 2, 15, 256, 4, 2, 7, 3766, 5, 723, 36, 71, 43, 530, 476, 26, 400, 317, 46, 7, 4, 2, 1029, 13, 104, 88, 4, 381, 15, 297, 98, 32, 2071, 56, 26, 141, 6, 194, 2, 18, 4, 226, 22, 21, 134, 476, 26, 480, 5, 144, 30, 2, 18, 51, 36, 28, 224, 92, 25, 104, 4, 226, 65, 16, 38, 1334, 88, 12, 16, 283, 5, 16, 4472, 113, 103, 32, 15, 16, 2, 19, 178, 32]\n",
      "학습용 데이터 0번 감성: 1\n",
      "학습용 입력 데이터 : (25000,)\n",
      "학습용 출력 데이터 : (25000,)\n",
      "평가용 입력 데이터 : (25000,)\n",
      "평가용 출력 데이터 : (25000,)\n"
     ]
    }
   ],
   "source": [
    "# 데이터 불러오기\n",
    "(X_train, Y_train), (X_test, Y_test) = imdb.load_data(num_words=MY_WORDS)\n",
    "\n",
    "# 샘플 출력\n",
    "# IMDB의 영화평은 token 처리 되어 있음\n",
    "# 감성: 0은 부정, 1은 긍정\n",
    "print('학습용 데이터 0번 영화평:', X_train[0])\n",
    "print('학습용 데이터 0번 감성:', Y_train[0])\n",
    "\n",
    "# 데이터 모양 확인\n",
    "print('학습용 입력 데이터 :', X_train.shape)\n",
    "print('학습용 출력 데이터 :', Y_train.shape)\n",
    "print('평가용 입력 데이터 :', X_test.shape)\n",
    "print('평가용 출력 데이터 :', Y_test.shape)"
   ]
  },
  {
   "cell_type": "code",
   "execution_count": 4,
   "metadata": {},
   "outputs": [
    {
     "name": "stdout",
     "output_type": "stream",
     "text": [
      "the의 token: 1\n",
      "virus의 token: 3310\n",
      "token 1의 단어 : the\n",
      "token 2의 단어 : and\n",
      "token 3의 단어 : a\n",
      "token 4의 단어 : of\n",
      "token 5의 단어 : to\n",
      "token 6의 단어 : is\n",
      "token 7의 단어 : br\n",
      "token 8의 단어 : in\n",
      "token 9의 단어 : it\n",
      "token 10의 단어 : i\n"
     ]
    }
   ],
   "source": [
    "# 단어를 정수로 전환하기\n",
    "word_to_id = imdb.get_word_index()\n",
    "print('the의 token:',word_to_id['the'])\n",
    "print('virus의 token:',word_to_id['virus'])\n",
    "\n",
    "# 정수를 단어로 전환하기\n",
    "id_to_world = {}\n",
    "for word, id in word_to_id.items():\n",
    "    id_to_world[id] = word\n",
    "\n",
    "for i in range(1,11):\n",
    "    print('token {}의 단어 : {}'.format(i,id_to_world[i]))"
   ]
  },
  {
   "cell_type": "code",
   "execution_count": 5,
   "metadata": {},
   "outputs": [
    {
     "name": "stdout",
     "output_type": "stream",
     "text": [
      "['???', 'with', 'title', 'like', 'this', 'you', 'know', 'you', 'get', 'pretty', 'much', 'lot', 'of', 'junk', 'acting', 'bad', 'script', 'bad', 'director', 'bad', '???', 'bad', 'br', 'br', 'movie', 'make', 'lot', 'of', 'noise', 'that', 'really', 'not', 'music', 'and', 'lot', 'of', 'people', '???', 'movie', 'make', 'bad', 'racial', 'stereotype', 'why', 'come', 'every', 'movie', 'with', 'black', 'hero', 'have', 'drug', '???', 'why', 'come', 'hero', 'always', 'have', 'to', 'dance', 'to', 'be', 'success', 'why', 'come', 'famous', '???', 'always', 'have', 'to', 'be', 'in', 'dance', 'movie', 'why', 'come', 'letter', 's', \"can't\", 'be', 'in', 'title', 'br', 'br', 'hollywood', 'need', 'to', 'stop', 'dumb', 'down', 'audience', 'and', 'make', 'movie', 'that', 'have', 'people', 'with', 'brain', 'who', 'know', 'how', 'speak', 'proper', 'english', 'br', 'br', 'do', 'self', 'favor', 'and', 'not', 'go', 'see']\n"
     ]
    }
   ],
   "source": [
    "# 영화평 단어로 전환\n",
    "# 영화평에 특수 문자 3개 추가되어 있음\n",
    "# 0: 패딩\n",
    "# 1: 영화평 시작\n",
    "# 2: 삭제 된 단어 (5000개에 해당 안되는 단어)\n",
    "def decode(review):\n",
    "    output = []\n",
    "    \n",
    "    for i in review:\n",
    "        word = id_to_world.get(i-3, '???')\n",
    "        output.append(word)\n",
    "    print(output)\n",
    "\n",
    "decode(X_train[333])"
   ]
  },
  {
   "cell_type": "code",
   "execution_count": 6,
   "metadata": {},
   "outputs": [
    {
     "name": "stdout",
     "output_type": "stream",
     "text": [
      "영화평 : 0 길이 : 218\n",
      "영화평 : 1 길이 : 189\n",
      "영화평 : 2 길이 : 141\n",
      "영화평 : 3 길이 : 550\n",
      "영화평 : 4 길이 : 147\n",
      "영화평 : 5 길이 : 43\n",
      "영화평 : 6 길이 : 123\n",
      "영화평 : 7 길이 : 562\n",
      "영화평 : 8 길이 : 233\n",
      "영화평 : 9 길이 : 130\n",
      "\n",
      "영화평 0 길이 : 80\n",
      "영화평 1 길이 : 80\n",
      "영화평 2 길이 : 80\n",
      "영화평 3 길이 : 80\n",
      "영화평 4 길이 : 80\n",
      "영화평 5 길이 : 80\n",
      "영화평 6 길이 : 80\n",
      "영화평 7 길이 : 80\n",
      "영화평 8 길이 : 80\n",
      "영화평 9 길이 : 80\n"
     ]
    }
   ],
   "source": [
    "# 영화평 길이 통일\n",
    "for i in range(10):\n",
    "    print('영화평 :',i,'길이 :',len(X_train[i]))\n",
    "\n",
    "X_train = pad_sequences(X_train,\n",
    "                        truncating='pre', # 앞부분을 절삭한다\n",
    "                        padding = 'pre',  # 앞부분을 전부 0으로 채운다\n",
    "                        maxlen=MY_LEN)\n",
    "print('')\n",
    "for i in range(10):\n",
    "    print('영화평',i,'길이 :',len(X_train[i]))\n",
    "\n",
    "X_test = pad_sequences(X_test,\n",
    "                        truncating='pre',\n",
    "                        padding = 'pre',\n",
    "                        maxlen=MY_LEN)"
   ]
  },
  {
   "cell_type": "code",
   "execution_count": 7,
   "metadata": {},
   "outputs": [
    {
     "name": "stdout",
     "output_type": "stream",
     "text": [
      "학습용 입력 데이터: (25000, 80)\n",
      "학습용 출력 데이터: (25000,)\n",
      "평가용 출력 데이터: (25000, 80)\n",
      "평가용 출력 데이터: (25000,)\n"
     ]
    }
   ],
   "source": [
    "# 데이터 모양 확인\n",
    "print('학습용 입력 데이터:', X_train.shape)\n",
    "print('학습용 출력 데이터:', Y_train.shape)\n",
    "print('평가용 출력 데이터:', X_test.shape)\n",
    "print('평가용 출력 데이터:', Y_test.shape)"
   ]
  },
  {
   "cell_type": "code",
   "execution_count": 8,
   "metadata": {},
   "outputs": [
    {
     "name": "stdout",
     "output_type": "stream",
     "text": [
      "Model: \"sequential\"\n",
      "_________________________________________________________________\n",
      " Layer (type)                Output Shape              Param #   \n",
      "=================================================================\n",
      " embedding (Embedding)       (None, 80, 32)            160000    \n",
      "                                                                 \n",
      " lstm (LSTM)                 (None, 64)                24832     \n",
      "                                                                 \n",
      " dense (Dense)               (None, 1)                 65        \n",
      "                                                                 \n",
      "=================================================================\n",
      "Total params: 184,897\n",
      "Trainable params: 184,897\n",
      "Non-trainable params: 0\n",
      "_________________________________________________________________\n"
     ]
    }
   ],
   "source": [
    "# RNN 구현\n",
    "model = Sequential()\n",
    "\n",
    "# 임베딩 층 추가\n",
    "model.add(Embedding(input_dim=MY_WORDS,\n",
    "                    output_dim=MY_EMBED,\n",
    "                    input_length=MY_LEN))\n",
    "\n",
    "# LSTM 추가\n",
    "model.add(LSTM(units=MY_HIDDEN,\n",
    "                input_shape=(MY_LEN,MY_EMBED)))\n",
    "\n",
    "# 출력층\n",
    "model.add(Dense(units=1,\n",
    "            activation='sigmoid'))\n",
    "\n",
    "# RNN 요약\n",
    "model.summary()"
   ]
  },
  {
   "cell_type": "code",
   "execution_count": 9,
   "metadata": {},
   "outputs": [
    {
     "name": "stdout",
     "output_type": "stream",
     "text": [
      "학습 시작\n",
      "Epoch 1/10\n",
      "125/125 [==============================] - 10s 70ms/step - loss: 0.5139 - acc: 0.7273\n",
      "Epoch 2/10\n",
      "125/125 [==============================] - 9s 70ms/step - loss: 0.3334 - acc: 0.8577\n",
      "Epoch 3/10\n",
      "125/125 [==============================] - 8s 68ms/step - loss: 0.2910 - acc: 0.8794\n",
      "Epoch 4/10\n",
      "125/125 [==============================] - 9s 69ms/step - loss: 0.2750 - acc: 0.8903\n",
      "Epoch 5/10\n",
      "125/125 [==============================] - 9s 69ms/step - loss: 0.2585 - acc: 0.8970\n",
      "Epoch 6/10\n",
      "125/125 [==============================] - 9s 69ms/step - loss: 0.2479 - acc: 0.9020\n",
      "Epoch 7/10\n",
      "125/125 [==============================] - 9s 69ms/step - loss: 0.2290 - acc: 0.9098: 0s - loss: 0.2264 -\n",
      "Epoch 8/10\n",
      "125/125 [==============================] - 9s 69ms/step - loss: 0.2077 - acc: 0.9222\n",
      "Epoch 9/10\n",
      "125/125 [==============================] - 9s 70ms/step - loss: 0.1839 - acc: 0.9320\n",
      "Epoch 10/10\n",
      "125/125 [==============================] - 9s 69ms/step - loss: 0.1620 - acc: 0.9408\n",
      "총 학습 시간: 87.70593094825745\n"
     ]
    }
   ],
   "source": [
    "# RNN 학습\n",
    "model.compile(optimizer='adam',\n",
    "                loss='binary_crossentropy',\n",
    "                metrics=['acc'])\n",
    "\n",
    "print(\"학습 시작\")\n",
    "begin = time()\n",
    "\n",
    "model.fit(X_train,\n",
    "            Y_train,\n",
    "            epochs=MY_EPOCH,\n",
    "            batch_size=MY_BATCH,\n",
    "            verbose=1)\n",
    "\n",
    "end = time()\n",
    "print('총 학습 시간:', end - begin)"
   ]
  },
  {
   "cell_type": "code",
   "execution_count": 10,
   "metadata": {},
   "outputs": [
    {
     "name": "stdout",
     "output_type": "stream",
     "text": [
      "782/782 [==============================] - 7s 8ms/step - loss: 0.5069 - acc: 0.8197\n",
      "최종 정확도 : 0.8197199702262878\n"
     ]
    }
   ],
   "source": [
    "# RNN 평가\n",
    "score = model.evaluate(X_test,\n",
    "                        Y_test)\n",
    "\n",
    "print('최종 정확도 :',score[1])"
   ]
  },
  {
   "cell_type": "code",
   "execution_count": 18,
   "metadata": {},
   "outputs": [
    {
     "name": "stdout",
     "output_type": "stream",
     "text": [
      "['???', '???', '???', '???', '???', '???', '???', '???', '???', '???', '???', '???', '???', 'please', 'give', 'this', 'one', 'a', 'miss', 'br', 'br', '???', '???', 'and', 'the', 'rest', 'of', 'the', 'cast', '???', 'terrible', 'performances', 'the', 'show', 'is', 'flat', 'flat', 'flat', 'br', 'br', 'i', \"don't\", 'know', 'how', 'michael', '???', 'could', 'have', 'allowed', 'this', 'one', 'on', 'his', '???', 'he', 'almost', 'seemed', 'to', 'know', 'this', \"wasn't\", 'going', 'to', 'work', 'out', 'and', 'his', 'performance', 'was', 'quite', '???', 'so', 'all', 'you', '???', 'fans', 'give', 'this', 'a', 'miss']\n",
      "영화평: None\n",
      "예측 :  [0.21296814]\n",
      "정답 :  0\n"
     ]
    }
   ],
   "source": [
    "# RNN 으로 예측\n",
    "pred = model.predict(X_test)\n",
    "\n",
    "# 평가용 데이터 샘플 예측\n",
    "print('영화평:', decode(X_test[0]))\n",
    "print('예측 : ',pred[0])\n",
    "print('정답 : ',Y_test[0])"
   ]
  },
  {
   "cell_type": "code",
   "execution_count": 21,
   "metadata": {},
   "outputs": [
    {
     "name": "stdout",
     "output_type": "stream",
     "text": [
      "[[False]\n",
      " [ True]\n",
      " [False]\n",
      " ...\n",
      " [False]\n",
      " [False]\n",
      " [ True]]\n",
      "[[False]\n",
      " [ True]\n",
      " [False]\n",
      " ...\n",
      " [False]\n",
      " [False]\n",
      " [ True]]\n",
      "[[10512  1988]\n",
      " [ 2519  9981]]\n"
     ]
    }
   ],
   "source": [
    "# 확률 결과를 이진수로 전환\n",
    "print(pred)\n",
    "pred = (pred > 0.5)\n",
    "print(pred)\n",
    "\n",
    "# 혼동 행렬\n",
    "print(confusion_matrix(Y_test,\n",
    "                        pred))"
   ]
  },
  {
   "cell_type": "code",
   "execution_count": 22,
   "metadata": {},
   "outputs": [
    {
     "name": "stdout",
     "output_type": "stream",
     "text": [
      "0.81972\n"
     ]
    }
   ],
   "source": [
    "# F1 점수\n",
    "print(f1_score(Y_test,pred,average='micro'))"
   ]
  }
 ],
 "metadata": {
  "interpreter": {
   "hash": "50558415ac93d9881e18c8c056ce7448705d901c127a568288521ecc940a9623"
  },
  "kernelspec": {
   "display_name": "Python 3.9.7 64-bit (conda)",
   "language": "python",
   "name": "python3"
  },
  "language_info": {
   "codemirror_mode": {
    "name": "ipython",
    "version": 3
   },
   "file_extension": ".py",
   "mimetype": "text/x-python",
   "name": "python",
   "nbconvert_exporter": "python",
   "pygments_lexer": "ipython3",
   "version": "3.9.7"
  },
  "orig_nbformat": 4
 },
 "nbformat": 4,
 "nbformat_minor": 2
}
