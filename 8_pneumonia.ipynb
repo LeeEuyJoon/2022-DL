{
  "cells": [
    {
      "cell_type": "markdown",
      "metadata": {
        "id": "Oko6dC0OIyHN"
      },
      "source": [
        "CNN으로 폐렴 X-ray 분류하기"
      ]
    },
    {
      "cell_type": "code",
      "execution_count": 1,
      "metadata": {
        "id": "G-xyzEfDIvpI"
      },
      "outputs": [],
      "source": [
        "# 1번 셀\n",
        "\n",
        "# package import\n",
        "import os\n",
        "import random\n",
        "import numpy as np\n",
        "import matplotlib.pyplot as plt\n",
        "\n",
        "from time import time\n",
        "from sklearn.metrics import confusion_matrix, f1_score\n",
        "\n",
        "from keras.models import Model\n",
        "from keras.layers import Conv2D, SeparableConv2D\n",
        "from keras.layers import Input, Flatten\n",
        "from keras.layers import BatchNormalization, MaxPool2D\n",
        "from keras.layers import Dense, Dropout\n",
        "\n",
        "from keras.preprocessing.image import load_img    # JPG 파일 처리 함수\n"
      ]
    },
    {
      "cell_type": "code",
      "execution_count": 2,
      "metadata": {
        "id": "iYOuPG_iJ1Dr"
      },
      "outputs": [],
      "source": [
        "# 2번 셀\n",
        "\n",
        "# 하이퍼 파라미터\n",
        "MY_EPOCH = 20\n",
        "MY_BATCH = 100\n",
        "MY_RES = 180        # X-ray 사진의 해상도\n",
        "MY_SHAPE = (MY_RES, MY_RES, 3)\n",
        "\n",
        "# 모드 설정\n",
        "DATA_MODE = 0 # (0: 읽기 / 1 : 쓰기(저장))\n",
        "TRAIN_MODE = 1\n",
        "MY_PATH = 'C:/Users/wds66/Desktop/work/2022_Georgia/chest'\n"
      ]
    },
    {
      "cell_type": "code",
      "execution_count": 3,
      "metadata": {
        "id": "eX9C7UVDUVFh"
      },
      "outputs": [],
      "source": [
        "# 3번 셀\n",
        "\n",
        "# 전역 변수 정의\n",
        "T_tot = 0          # 학습용 이미지 갯수: 999\n",
        "V_tot = 0          # 평가용 이미지 갯수: 200\n",
        "N_tot = 0          # 정상 이미지 갯수: 500 혹은 100\n",
        "P_tot = 0          # 폐렴 이미지 갯수: 500 혹은 100\n",
        "N_path = []        # 정상 이미지 경로: 500 혹은 100\n",
        "P_path = []        # 폐렴 이미지 경로: 500 혹은 100\n",
        "\n",
        "X_train = np.zeros((0))   # 학습용 입력 데이터\n",
        "Y_train = np.zeros((0))   # 학습용 출력 데이터\n",
        "X_test = np.zeros((0))    # 평가용 입력 데이터\n",
        "Y_test = np.zeros((0))    # 평가용 출력 데이터\n"
      ]
    },
    {
      "cell_type": "code",
      "execution_count": 4,
      "metadata": {
        "id": "Py_yApkIWbyO"
      },
      "outputs": [],
      "source": [
        "# 4번 셀\n",
        "\n",
        "# 학습용 이미지 경로 처리\n",
        "def train_path():\n",
        "    global T_tot, N_tot, P_tot, N_path, P_path\n",
        "\n",
        "    # 학습용 정상 이미지 경로 처리\n",
        "    dir = os.path.join(MY_PATH, 'train/NORMAL')\n",
        "    for file in os.listdir(dir):\n",
        "        N_path.append(os.path.join(dir, file))\n",
        "    N_tot = len(N_path)\n",
        "    print('학습용 정상 이미지 개수:', N_tot)\n",
        "\n",
        "    # 학습용 폐렴 이미지 경로 처리\n",
        "    dir = os.path.join(MY_PATH, 'train/PNEUMONIA')\n",
        "    for file in os.listdir(dir):\n",
        "        P_path.append(os.path.join(dir, file))\n",
        "    P_tot = len(P_path)\n",
        "    print('학습용 폐렴 이미지 개수:', P_tot)\n",
        "\n",
        "    T_tot = N_tot + P_tot\n",
        "    print('전체 학습용 이미지 개수:', T_tot)\n"
      ]
    },
    {
      "cell_type": "code",
      "execution_count": 5,
      "metadata": {
        "id": "YDpVY3Xqa7U_"
      },
      "outputs": [],
      "source": [
        "# 5번 셀\n",
        "\n",
        "# 학습용 이미지 해상도 통일\n",
        "def train_resize():\n",
        "    global T_tot, N_tot, P_tot, N_path, P_path\n",
        "    global X_train, Y_train\n",
        "\n",
        "    print('<학습용 정상 이미지 처리 시작>')\n",
        "    begin = time()\n",
        "\n",
        "    # 학습용 데이터의 모양 선언\n",
        "    X_train = np.zeros((T_tot, MY_RES, MY_RES, 3))\n",
        "    Y_train = np.zeros((T_tot, 1))\n",
        "\n",
        "    for i, path in enumerate(N_path):\n",
        "        #tmp = load_img(path)\n",
        "        #plt.imshow(tmp)\n",
        "        #print(type(tmp))\n",
        "        #print(np.array(tmp).shape)\n",
        "        #plt.show()\n",
        "\n",
        "        # 화소 낮추기\n",
        "        img = load_img(path, \n",
        "                        target_size=(MY_RES, MY_RES))\n",
        "        #print(np.array(img).shape)\n",
        "        #plt.imshow(img)\n",
        "        X_train[i] = img\n",
        "        Y_train[i] = 0\n",
        "\n",
        "    end = time()\n",
        "    print('학습용 정상 이미지 처리 시간:', end - begin)\n",
        "\n",
        "    print('<학습용 폐렴 이미지 처리 시작>')\n",
        "    begin = time()\n",
        "\n",
        "    for i, path in enumerate(P_path):\n",
        "        img = load_img(path,\n",
        "                        target_size=(MY_RES, MY_RES))\n",
        "        X_train[i + N_tot] = img\n",
        "        Y_train[i + N_tot] = 1\n",
        "\n",
        "    end = time()\n",
        "    print('학습용 폐렴 이미지 처리 시간:', end - begin)\n"
      ]
    },
    {
      "cell_type": "code",
      "execution_count": 6,
      "metadata": {
        "id": "2Elf_d3EGVfz"
      },
      "outputs": [],
      "source": [
        "# 6번 셀 (= 4번 셀과 유사)\n",
        "\n",
        "# 평가용 데이터 경로 처리\n",
        "def test_path():\n",
        "    global V_tot, N_tot, P_tot, N_path, P_path\n",
        "\n",
        "    # 평가용 정상 이미지 경로 처리\n",
        "    N_path = []\n",
        "    dir = os.path.join(MY_PATH, 'test/NORMAL')\n",
        "    for file in os.listdir(dir):\n",
        "        N_path.append(os.path.join(dir, file))\n",
        "    N_tot = len(N_path)\n",
        "    print('평가용 정상 이미지 개수:', N_tot)\n",
        "\n",
        "    # 평가용 폐렴 이미지 경로 처리\n",
        "    P_path = []\n",
        "    dir = os.path.join(MY_PATH, 'test/PNEUMONIA')\n",
        "    for file in os.listdir(dir):\n",
        "        P_path.append(os.path.join(dir, file))\n",
        "    P_tot = len(P_path)\n",
        "    print('평가용 폐렴 이미지 개수:', P_tot)\n",
        "\n",
        "    V_tot = N_tot + P_tot\n",
        "    print('전체 평가용 이미지 개수:', V_tot)\n"
      ]
    },
    {
      "cell_type": "code",
      "execution_count": 7,
      "metadata": {
        "id": "DpQ0DLlKOLp4"
      },
      "outputs": [],
      "source": [
        "# 7번 셀 (5번 셀과 유사)\n",
        "\n",
        "# 평가용 이미지 화소 통일\n",
        "def test_resize():\n",
        "    global V_tot, N_tot, P_tot, N_path, P_path\n",
        "    global X_test, Y_test\n",
        "\n",
        "    print('<평가용 정상 이미지 처리>')\n",
        "    begin = time()\n",
        "\n",
        "    # 평가용 데이터의 모양 선언\n",
        "    X_test = np.zeros((V_tot, MY_RES, MY_RES, 3))\n",
        "    Y_test = np.zeros((V_tot, 1))\n",
        "\n",
        "    for i, path in enumerate(N_path):\n",
        "        # 화소 낮추기\n",
        "        img = load_img(path, \n",
        "                        target_size=(MY_RES, MY_RES))\n",
        "        X_test[i] = img\n",
        "        Y_test[i] = 0\n",
        "\n",
        "    end = time()\n",
        "    print('평가용 정상 이미지 처리 시간:', end - begin)\n",
        "\n",
        "    print('<평가용 폐렴 이미지 처리 시작>')\n",
        "    begin = time()\n",
        "\n",
        "    for i, path in enumerate(P_path):\n",
        "        img = load_img(path,\n",
        "                        target_size=(MY_RES, MY_RES))\n",
        "        X_test[i + N_tot] = img\n",
        "        Y_test[i + N_tot] = 1\n",
        "\n",
        "    end = time()\n",
        "    print('평가용 폐렴 이미지 처리 시간:', end - begin)\n"
      ]
    },
    {
      "cell_type": "code",
      "execution_count": 8,
      "metadata": {
        "id": "cmG8C-_3QH8-"
      },
      "outputs": [],
      "source": [
        "# 8번 셀\n",
        "\n",
        "# 데이터 파일 저장\n",
        "def save_data():\n",
        "    path = os.path.join(MY_PATH, 'chest.npy')\n",
        "    with open(path, 'wb') as file:\n",
        "        np.save(file, X_train)\n",
        "        np.save(file, Y_train)\n",
        "        np.save(file, X_test)\n",
        "        np.save(file, Y_test)\n",
        "\n",
        "    print('4분할 데이터 파일 저장 완료')\n"
      ]
    },
    {
      "cell_type": "code",
      "execution_count": 9,
      "metadata": {
        "id": "N8lhAqiPR3vD"
      },
      "outputs": [],
      "source": [
        "# 9번 셀\n",
        "\n",
        "# 저장된 numpy 파일 읽기\n",
        "def read_data():\n",
        "    global X_train, Y_train, X_test, Y_test\n",
        "\n",
        "    path = os.path.join(MY_PATH, 'chest.npy')\n",
        "    with open(path, 'rb') as file:\n",
        "        X_train = np.load(file)\n",
        "        Y_train = np.load(file)\n",
        "        X_test = np.load(file)\n",
        "        Y_test = np.load(file)\n",
        "\n",
        "    print('4분할 데이터 파일 읽기 종료')\n"
      ]
    },
    {
      "cell_type": "code",
      "execution_count": 10,
      "metadata": {
        "colab": {
          "base_uri": "https://localhost:8080/"
        },
        "id": "PFl_L52mRWkq",
        "outputId": "79e7ac80-1a38-43ba-b909-f4658165eacb"
      },
      "outputs": [
        {
          "name": "stdout",
          "output_type": "stream",
          "text": [
            "4분할 데이터 파일 읽기 종료\n"
          ]
        }
      ],
      "source": [
        "# 10번 셀\n",
        "\n",
        "# 데이터 처리 콘트롤 타워\n",
        "if DATA_MODE: # (DATA_MODE == 1)\n",
        "    train_path()\n",
        "    train_resize()\n",
        "    test_path()\n",
        "    test_resize()\n",
        "    save_data()\n",
        "else:          # (DATA_MODE == 0) \n",
        "    read_data()"
      ]
    },
    {
      "cell_type": "code",
      "execution_count": 11,
      "metadata": {
        "colab": {
          "base_uri": "https://localhost:8080/",
          "height": 304
        },
        "id": "zIBEPwoSWE3_",
        "outputId": "4bb4ced8-c5ed-4d55-99e3-3f7fbff33f42"
      },
      "outputs": [
        {
          "name": "stdout",
          "output_type": "stream",
          "text": [
            "[0.]\n",
            "X_train 모양: (1000, 180, 180, 3)\n",
            "Y_train 모양: (1000, 1)\n",
            "X_test 모양: (200, 180, 180, 3)\n",
            "Y_test 모양: (200, 1)\n"
          ]
        },
        {
          "data": {
            "image/png": "[encoded data removed]",
            "text/plain": [
              "<Figure size 432x288 with 1 Axes>"
            ]
          },
          "metadata": {
            "needs_background": "light"
          },
          "output_type": "display_data"
        }
      ],
      "source": [
        "# 11번 셀\n",
        "\n",
        "# 샘플 데이터 확인\n",
        "# 이미지 데이터 [0, 1] 스케일링\n",
        "X_train = X_train / 255\n",
        "X_test = X_test / 255\n",
        "\n",
        "# 샘플 데이터 확인\n",
        "print(Y_train[0])\n",
        "plt.imshow(X_train[0])\n",
        "\n",
        "# 데이터 모양 확인\n",
        "print('X_train 모양:',X_train.shape)\n",
        "print('Y_train 모양:',Y_train.shape)\n",
        "\n",
        "print('X_test 모양:',X_test.shape)\n",
        "print('Y_test 모양:',Y_test.shape)"
      ]
    },
    {
      "cell_type": "code",
      "execution_count": 12,
      "metadata": {},
      "outputs": [],
      "source": [
        "# 12번 셀\n",
        "\n",
        "# 반복 합성곱 구조 구현\n",
        "def conv_block(filters,input):\n",
        "    x = SeparableConv2D(filters=filters,\n",
        "                        kernel_size=3,\n",
        "                        padding='same',\n",
        "                        activation='relu')(input)\n",
        "                        \n",
        "    x = SeparableConv2D(filters=filters,\n",
        "                        kernel_size=3,\n",
        "                        padding='same',\n",
        "                        activation='relu')(x)\n",
        "    \n",
        "    x = BatchNormalization()(x)\n",
        "    x = MaxPool2D(pool_size=2)(x)\n",
        "    \n",
        "    return x"
      ]
    },
    {
      "cell_type": "code",
      "execution_count": 13,
      "metadata": {},
      "outputs": [],
      "source": [
        "# 13번 셀\n",
        "\n",
        "# 반복 완전 연결 구조 구현\n",
        "def dense_block(units,drop,input):\n",
        "    x = Dense(units=units,\n",
        "                activation='relu')(input)\n",
        "    \n",
        "    x = BatchNormalization()(x)\n",
        "    x = Dropout(drop)(x)\n",
        "    \n",
        "    return x"
      ]
    },
    {
      "cell_type": "code",
      "execution_count": 14,
      "metadata": {},
      "outputs": [
        {
          "name": "stdout",
          "output_type": "stream",
          "text": [
            "Model: \"model\"\n",
            "_________________________________________________________________\n",
            " Layer (type)                Output Shape              Param #   \n",
            "=================================================================\n",
            " input_1 (InputLayer)        [(None, 180, 180, 3)]     0         \n",
            "                                                                 \n",
            " conv2d (Conv2D)             (None, 180, 180, 16)      448       \n",
            "                                                                 \n",
            " conv2d_1 (Conv2D)           (None, 180, 180, 16)      2320      \n",
            "                                                                 \n",
            " max_pooling2d (MaxPooling2D  (None, 90, 90, 16)       0         \n",
            " )                                                               \n",
            "                                                                 \n",
            " separable_conv2d (Separable  (None, 90, 90, 32)       688       \n",
            " Conv2D)                                                         \n",
            "                                                                 \n",
            " separable_conv2d_1 (Separab  (None, 90, 90, 32)       1344      \n",
            " leConv2D)                                                       \n",
            "                                                                 \n",
            " batch_normalization (BatchN  (None, 90, 90, 32)       128       \n",
            " ormalization)                                                   \n",
            "                                                                 \n",
            " max_pooling2d_1 (MaxPooling  (None, 45, 45, 32)       0         \n",
            " 2D)                                                             \n",
            "                                                                 \n",
            " separable_conv2d_2 (Separab  (None, 45, 45, 64)       2400      \n",
            " leConv2D)                                                       \n",
            "                                                                 \n",
            " separable_conv2d_3 (Separab  (None, 45, 45, 64)       4736      \n",
            " leConv2D)                                                       \n",
            "                                                                 \n",
            " batch_normalization_1 (Batc  (None, 45, 45, 64)       256       \n",
            " hNormalization)                                                 \n",
            "                                                                 \n",
            " max_pooling2d_2 (MaxPooling  (None, 22, 22, 64)       0         \n",
            " 2D)                                                             \n",
            "                                                                 \n",
            " separable_conv2d_4 (Separab  (None, 22, 22, 128)      8896      \n",
            " leConv2D)                                                       \n",
            "                                                                 \n",
            " separable_conv2d_5 (Separab  (None, 22, 22, 128)      17664     \n",
            " leConv2D)                                                       \n",
            "                                                                 \n",
            " batch_normalization_2 (Batc  (None, 22, 22, 128)      512       \n",
            " hNormalization)                                                 \n",
            "                                                                 \n",
            " max_pooling2d_3 (MaxPooling  (None, 11, 11, 128)      0         \n",
            " 2D)                                                             \n",
            "                                                                 \n",
            " dropout (Dropout)           (None, 11, 11, 128)       0         \n",
            "                                                                 \n",
            " separable_conv2d_6 (Separab  (None, 11, 11, 256)      34176     \n",
            " leConv2D)                                                       \n",
            "                                                                 \n",
            " separable_conv2d_7 (Separab  (None, 11, 11, 256)      68096     \n",
            " leConv2D)                                                       \n",
            "                                                                 \n",
            " batch_normalization_3 (Batc  (None, 11, 11, 256)      1024      \n",
            " hNormalization)                                                 \n",
            "                                                                 \n",
            " max_pooling2d_4 (MaxPooling  (None, 5, 5, 256)        0         \n",
            " 2D)                                                             \n",
            "                                                                 \n",
            " dropout_1 (Dropout)         (None, 5, 5, 256)         0         \n",
            "                                                                 \n",
            " flatten (Flatten)           (None, 6400)              0         \n",
            "                                                                 \n",
            " dense (Dense)               (None, 512)               3277312   \n",
            "                                                                 \n",
            " batch_normalization_4 (Batc  (None, 512)              2048      \n",
            " hNormalization)                                                 \n",
            "                                                                 \n",
            " dropout_2 (Dropout)         (None, 512)               0         \n",
            "                                                                 \n",
            " dense_1 (Dense)             (None, 128)               65664     \n",
            "                                                                 \n",
            " batch_normalization_5 (Batc  (None, 128)              512       \n",
            " hNormalization)                                                 \n",
            "                                                                 \n",
            " dropout_3 (Dropout)         (None, 128)               0         \n",
            "                                                                 \n",
            " dense_2 (Dense)             (None, 64)                8256      \n",
            "                                                                 \n",
            " batch_normalization_6 (Batc  (None, 64)               256       \n",
            " hNormalization)                                                 \n",
            "                                                                 \n",
            " dropout_4 (Dropout)         (None, 64)                0         \n",
            "                                                                 \n",
            " dense_3 (Dense)             (None, 1)                 65        \n",
            "                                                                 \n",
            "=================================================================\n",
            "Total params: 3,496,801\n",
            "Trainable params: 3,494,433\n",
            "Non-trainable params: 2,368\n",
            "_________________________________________________________________\n"
          ]
        }
      ],
      "source": [
        "# 14번 셀\n",
        "\n",
        "# 전체 CNN 구현\n",
        "# 입력층\n",
        "my_input = Input(shape=(MY_SHAPE))\n",
        "\n",
        "# 블럭 2\n",
        "x = Conv2D(filters=16,\n",
        "            kernel_size=3,\n",
        "            padding = 'same',\n",
        "            activation='relu')(my_input)\n",
        "\n",
        "x = Conv2D(filters=16,\n",
        "            kernel_size=3,\n",
        "            padding = 'same',\n",
        "            activation='relu')(x)\n",
        "\n",
        "x = MaxPool2D(pool_size=2)(x)\n",
        "\n",
        "# 블럭 3\n",
        "x = conv_block(32,x)\n",
        "\n",
        "# 블럭 4\n",
        "x = conv_block(64,x)\n",
        "\n",
        "# 블럭 5\n",
        "x = conv_block(128,x)\n",
        "x = Dropout(0.2)(x)\n",
        "\n",
        "# 블럭 6\n",
        "x = conv_block(256,x)\n",
        "x = Dropout(0.2)(x)\n",
        "\n",
        "# 블럭 7\n",
        "x = Flatten()(x)\n",
        "\n",
        "# 블럭 8\n",
        "x = dense_block(512,0.7,x)\n",
        "x = dense_block(128,0.5,x)\n",
        "x = dense_block(64,0.3,x)\n",
        "\n",
        "# 블럭 9\n",
        "x = Dense(units=1,\n",
        "            activation='sigmoid')(x)\n",
        "\n",
        "# CNN 요약\n",
        "model = Model(inputs=my_input,\n",
        "                outputs=x)\n",
        "\n",
        "model.summary()"
      ]
    },
    {
      "cell_type": "code",
      "execution_count": 16,
      "metadata": {},
      "outputs": [
        {
          "name": "stdout",
          "output_type": "stream",
          "text": [
            "학습 시작\n",
            "Epoch 1/20\n",
            " 1/10 [==>...........................] - ETA: 2:11 - loss: 0.0714 - acc: 0.9800"
          ]
        },
        {
          "ename": "KeyboardInterrupt",
          "evalue": "",
          "output_type": "error",
          "traceback": [
            "\u001b[1;31m---------------------------------------------------------------------------\u001b[0m",
            "\u001b[1;31mKeyboardInterrupt\u001b[0m                         Traceback (most recent call last)",
            "\u001b[1;32m~\\AppData\\Local\\Temp/ipykernel_17732/2397013744.py\u001b[0m in \u001b[0;36m<module>\u001b[1;34m\u001b[0m\n\u001b[0;32m      9\u001b[0m \u001b[0mbegin\u001b[0m \u001b[1;33m=\u001b[0m \u001b[0mtime\u001b[0m\u001b[1;33m(\u001b[0m\u001b[1;33m)\u001b[0m\u001b[1;33m\u001b[0m\u001b[1;33m\u001b[0m\u001b[0m\n\u001b[0;32m     10\u001b[0m \u001b[1;33m\u001b[0m\u001b[0m\n\u001b[1;32m---> 11\u001b[1;33m model.fit(X_train,Y_train,\n\u001b[0m\u001b[0;32m     12\u001b[0m             \u001b[0mepochs\u001b[0m\u001b[1;33m=\u001b[0m\u001b[0mMY_EPOCH\u001b[0m\u001b[1;33m,\u001b[0m\u001b[1;33m\u001b[0m\u001b[1;33m\u001b[0m\u001b[0m\n\u001b[0;32m     13\u001b[0m             \u001b[0mbatch_size\u001b[0m\u001b[1;33m=\u001b[0m\u001b[0mMY_BATCH\u001b[0m\u001b[1;33m,\u001b[0m\u001b[1;33m\u001b[0m\u001b[1;33m\u001b[0m\u001b[0m\n",
            "\u001b[1;32m~\\anaconda3\\lib\\site-packages\\keras\\utils\\traceback_utils.py\u001b[0m in \u001b[0;36merror_handler\u001b[1;34m(*args, **kwargs)\u001b[0m\n\u001b[0;32m     62\u001b[0m     \u001b[0mfiltered_tb\u001b[0m \u001b[1;33m=\u001b[0m \u001b[1;32mNone\u001b[0m\u001b[1;33m\u001b[0m\u001b[1;33m\u001b[0m\u001b[0m\n\u001b[0;32m     63\u001b[0m     \u001b[1;32mtry\u001b[0m\u001b[1;33m:\u001b[0m\u001b[1;33m\u001b[0m\u001b[1;33m\u001b[0m\u001b[0m\n\u001b[1;32m---> 64\u001b[1;33m       \u001b[1;32mreturn\u001b[0m \u001b[0mfn\u001b[0m\u001b[1;33m(\u001b[0m\u001b[1;33m*\u001b[0m\u001b[0margs\u001b[0m\u001b[1;33m,\u001b[0m \u001b[1;33m**\u001b[0m\u001b[0mkwargs\u001b[0m\u001b[1;33m)\u001b[0m\u001b[1;33m\u001b[0m\u001b[1;33m\u001b[0m\u001b[0m\n\u001b[0m\u001b[0;32m     65\u001b[0m     \u001b[1;32mexcept\u001b[0m \u001b[0mException\u001b[0m \u001b[1;32mas\u001b[0m \u001b[0me\u001b[0m\u001b[1;33m:\u001b[0m  \u001b[1;31m# pylint: disable=broad-except\u001b[0m\u001b[1;33m\u001b[0m\u001b[1;33m\u001b[0m\u001b[0m\n\u001b[0;32m     66\u001b[0m       \u001b[0mfiltered_tb\u001b[0m \u001b[1;33m=\u001b[0m \u001b[0m_process_traceback_frames\u001b[0m\u001b[1;33m(\u001b[0m\u001b[0me\u001b[0m\u001b[1;33m.\u001b[0m\u001b[0m__traceback__\u001b[0m\u001b[1;33m)\u001b[0m\u001b[1;33m\u001b[0m\u001b[1;33m\u001b[0m\u001b[0m\n",
            "\u001b[1;32m~\\anaconda3\\lib\\site-packages\\keras\\engine\\training.py\u001b[0m in \u001b[0;36mfit\u001b[1;34m(self, x, y, batch_size, epochs, verbose, callbacks, validation_split, validation_data, shuffle, class_weight, sample_weight, initial_epoch, steps_per_epoch, validation_steps, validation_batch_size, validation_freq, max_queue_size, workers, use_multiprocessing)\u001b[0m\n\u001b[0;32m   1214\u001b[0m                 _r=1):\n\u001b[0;32m   1215\u001b[0m               \u001b[0mcallbacks\u001b[0m\u001b[1;33m.\u001b[0m\u001b[0mon_train_batch_begin\u001b[0m\u001b[1;33m(\u001b[0m\u001b[0mstep\u001b[0m\u001b[1;33m)\u001b[0m\u001b[1;33m\u001b[0m\u001b[1;33m\u001b[0m\u001b[0m\n\u001b[1;32m-> 1216\u001b[1;33m               \u001b[0mtmp_logs\u001b[0m \u001b[1;33m=\u001b[0m \u001b[0mself\u001b[0m\u001b[1;33m.\u001b[0m\u001b[0mtrain_function\u001b[0m\u001b[1;33m(\u001b[0m\u001b[0miterator\u001b[0m\u001b[1;33m)\u001b[0m\u001b[1;33m\u001b[0m\u001b[1;33m\u001b[0m\u001b[0m\n\u001b[0m\u001b[0;32m   1217\u001b[0m               \u001b[1;32mif\u001b[0m \u001b[0mdata_handler\u001b[0m\u001b[1;33m.\u001b[0m\u001b[0mshould_sync\u001b[0m\u001b[1;33m:\u001b[0m\u001b[1;33m\u001b[0m\u001b[1;33m\u001b[0m\u001b[0m\n\u001b[0;32m   1218\u001b[0m                 \u001b[0mcontext\u001b[0m\u001b[1;33m.\u001b[0m\u001b[0masync_wait\u001b[0m\u001b[1;33m(\u001b[0m\u001b[1;33m)\u001b[0m\u001b[1;33m\u001b[0m\u001b[1;33m\u001b[0m\u001b[0m\n",
            "\u001b[1;32m~\\anaconda3\\lib\\site-packages\\tensorflow\\python\\util\\traceback_utils.py\u001b[0m in \u001b[0;36merror_handler\u001b[1;34m(*args, **kwargs)\u001b[0m\n\u001b[0;32m    148\u001b[0m     \u001b[0mfiltered_tb\u001b[0m \u001b[1;33m=\u001b[0m \u001b[1;32mNone\u001b[0m\u001b[1;33m\u001b[0m\u001b[1;33m\u001b[0m\u001b[0m\n\u001b[0;32m    149\u001b[0m     \u001b[1;32mtry\u001b[0m\u001b[1;33m:\u001b[0m\u001b[1;33m\u001b[0m\u001b[1;33m\u001b[0m\u001b[0m\n\u001b[1;32m--> 150\u001b[1;33m       \u001b[1;32mreturn\u001b[0m \u001b[0mfn\u001b[0m\u001b[1;33m(\u001b[0m\u001b[1;33m*\u001b[0m\u001b[0margs\u001b[0m\u001b[1;33m,\u001b[0m \u001b[1;33m**\u001b[0m\u001b[0mkwargs\u001b[0m\u001b[1;33m)\u001b[0m\u001b[1;33m\u001b[0m\u001b[1;33m\u001b[0m\u001b[0m\n\u001b[0m\u001b[0;32m    151\u001b[0m     \u001b[1;32mexcept\u001b[0m \u001b[0mException\u001b[0m \u001b[1;32mas\u001b[0m \u001b[0me\u001b[0m\u001b[1;33m:\u001b[0m\u001b[1;33m\u001b[0m\u001b[1;33m\u001b[0m\u001b[0m\n\u001b[0;32m    152\u001b[0m       \u001b[0mfiltered_tb\u001b[0m \u001b[1;33m=\u001b[0m \u001b[0m_process_traceback_frames\u001b[0m\u001b[1;33m(\u001b[0m\u001b[0me\u001b[0m\u001b[1;33m.\u001b[0m\u001b[0m__traceback__\u001b[0m\u001b[1;33m)\u001b[0m\u001b[1;33m\u001b[0m\u001b[1;33m\u001b[0m\u001b[0m\n",
            "\u001b[1;32m~\\anaconda3\\lib\\site-packages\\tensorflow\\python\\eager\\def_function.py\u001b[0m in \u001b[0;36m__call__\u001b[1;34m(self, *args, **kwds)\u001b[0m\n\u001b[0;32m    908\u001b[0m \u001b[1;33m\u001b[0m\u001b[0m\n\u001b[0;32m    909\u001b[0m       \u001b[1;32mwith\u001b[0m \u001b[0mOptionalXlaContext\u001b[0m\u001b[1;33m(\u001b[0m\u001b[0mself\u001b[0m\u001b[1;33m.\u001b[0m\u001b[0m_jit_compile\u001b[0m\u001b[1;33m)\u001b[0m\u001b[1;33m:\u001b[0m\u001b[1;33m\u001b[0m\u001b[1;33m\u001b[0m\u001b[0m\n\u001b[1;32m--> 910\u001b[1;33m         \u001b[0mresult\u001b[0m \u001b[1;33m=\u001b[0m \u001b[0mself\u001b[0m\u001b[1;33m.\u001b[0m\u001b[0m_call\u001b[0m\u001b[1;33m(\u001b[0m\u001b[1;33m*\u001b[0m\u001b[0margs\u001b[0m\u001b[1;33m,\u001b[0m \u001b[1;33m**\u001b[0m\u001b[0mkwds\u001b[0m\u001b[1;33m)\u001b[0m\u001b[1;33m\u001b[0m\u001b[1;33m\u001b[0m\u001b[0m\n\u001b[0m\u001b[0;32m    911\u001b[0m \u001b[1;33m\u001b[0m\u001b[0m\n\u001b[0;32m    912\u001b[0m       \u001b[0mnew_tracing_count\u001b[0m \u001b[1;33m=\u001b[0m \u001b[0mself\u001b[0m\u001b[1;33m.\u001b[0m\u001b[0mexperimental_get_tracing_count\u001b[0m\u001b[1;33m(\u001b[0m\u001b[1;33m)\u001b[0m\u001b[1;33m\u001b[0m\u001b[1;33m\u001b[0m\u001b[0m\n",
            "\u001b[1;32m~\\anaconda3\\lib\\site-packages\\tensorflow\\python\\eager\\def_function.py\u001b[0m in \u001b[0;36m_call\u001b[1;34m(self, *args, **kwds)\u001b[0m\n\u001b[0;32m    940\u001b[0m       \u001b[1;31m# In this case we have created variables on the first call, so we run the\u001b[0m\u001b[1;33m\u001b[0m\u001b[1;33m\u001b[0m\u001b[0m\n\u001b[0;32m    941\u001b[0m       \u001b[1;31m# defunned version which is guaranteed to never create variables.\u001b[0m\u001b[1;33m\u001b[0m\u001b[1;33m\u001b[0m\u001b[0m\n\u001b[1;32m--> 942\u001b[1;33m       \u001b[1;32mreturn\u001b[0m \u001b[0mself\u001b[0m\u001b[1;33m.\u001b[0m\u001b[0m_stateless_fn\u001b[0m\u001b[1;33m(\u001b[0m\u001b[1;33m*\u001b[0m\u001b[0margs\u001b[0m\u001b[1;33m,\u001b[0m \u001b[1;33m**\u001b[0m\u001b[0mkwds\u001b[0m\u001b[1;33m)\u001b[0m  \u001b[1;31m# pylint: disable=not-callable\u001b[0m\u001b[1;33m\u001b[0m\u001b[1;33m\u001b[0m\u001b[0m\n\u001b[0m\u001b[0;32m    943\u001b[0m     \u001b[1;32melif\u001b[0m \u001b[0mself\u001b[0m\u001b[1;33m.\u001b[0m\u001b[0m_stateful_fn\u001b[0m \u001b[1;32mis\u001b[0m \u001b[1;32mnot\u001b[0m \u001b[1;32mNone\u001b[0m\u001b[1;33m:\u001b[0m\u001b[1;33m\u001b[0m\u001b[1;33m\u001b[0m\u001b[0m\n\u001b[0;32m    944\u001b[0m       \u001b[1;31m# Release the lock early so that multiple threads can perform the call\u001b[0m\u001b[1;33m\u001b[0m\u001b[1;33m\u001b[0m\u001b[0m\n",
            "\u001b[1;32m~\\anaconda3\\lib\\site-packages\\tensorflow\\python\\eager\\function.py\u001b[0m in \u001b[0;36m__call__\u001b[1;34m(self, *args, **kwargs)\u001b[0m\n\u001b[0;32m   3128\u001b[0m       (graph_function,\n\u001b[0;32m   3129\u001b[0m        filtered_flat_args) = self._maybe_define_function(args, kwargs)\n\u001b[1;32m-> 3130\u001b[1;33m     return graph_function._call_flat(\n\u001b[0m\u001b[0;32m   3131\u001b[0m         filtered_flat_args, captured_inputs=graph_function.captured_inputs)  # pylint: disable=protected-access\n\u001b[0;32m   3132\u001b[0m \u001b[1;33m\u001b[0m\u001b[0m\n",
            "\u001b[1;32m~\\anaconda3\\lib\\site-packages\\tensorflow\\python\\eager\\function.py\u001b[0m in \u001b[0;36m_call_flat\u001b[1;34m(self, args, captured_inputs, cancellation_manager)\u001b[0m\n\u001b[0;32m   1957\u001b[0m         and executing_eagerly):\n\u001b[0;32m   1958\u001b[0m       \u001b[1;31m# No tape is watching; skip to running the function.\u001b[0m\u001b[1;33m\u001b[0m\u001b[1;33m\u001b[0m\u001b[0m\n\u001b[1;32m-> 1959\u001b[1;33m       return self._build_call_outputs(self._inference_function.call(\n\u001b[0m\u001b[0;32m   1960\u001b[0m           ctx, args, cancellation_manager=cancellation_manager))\n\u001b[0;32m   1961\u001b[0m     forward_backward = self._select_forward_and_backward_functions(\n",
            "\u001b[1;32m~\\anaconda3\\lib\\site-packages\\tensorflow\\python\\eager\\function.py\u001b[0m in \u001b[0;36mcall\u001b[1;34m(self, ctx, args, cancellation_manager)\u001b[0m\n\u001b[0;32m    596\u001b[0m       \u001b[1;32mwith\u001b[0m \u001b[0m_InterpolateFunctionError\u001b[0m\u001b[1;33m(\u001b[0m\u001b[0mself\u001b[0m\u001b[1;33m)\u001b[0m\u001b[1;33m:\u001b[0m\u001b[1;33m\u001b[0m\u001b[1;33m\u001b[0m\u001b[0m\n\u001b[0;32m    597\u001b[0m         \u001b[1;32mif\u001b[0m \u001b[0mcancellation_manager\u001b[0m \u001b[1;32mis\u001b[0m \u001b[1;32mNone\u001b[0m\u001b[1;33m:\u001b[0m\u001b[1;33m\u001b[0m\u001b[1;33m\u001b[0m\u001b[0m\n\u001b[1;32m--> 598\u001b[1;33m           outputs = execute.execute(\n\u001b[0m\u001b[0;32m    599\u001b[0m               \u001b[0mstr\u001b[0m\u001b[1;33m(\u001b[0m\u001b[0mself\u001b[0m\u001b[1;33m.\u001b[0m\u001b[0msignature\u001b[0m\u001b[1;33m.\u001b[0m\u001b[0mname\u001b[0m\u001b[1;33m)\u001b[0m\u001b[1;33m,\u001b[0m\u001b[1;33m\u001b[0m\u001b[1;33m\u001b[0m\u001b[0m\n\u001b[0;32m    600\u001b[0m               \u001b[0mnum_outputs\u001b[0m\u001b[1;33m=\u001b[0m\u001b[0mself\u001b[0m\u001b[1;33m.\u001b[0m\u001b[0m_num_outputs\u001b[0m\u001b[1;33m,\u001b[0m\u001b[1;33m\u001b[0m\u001b[1;33m\u001b[0m\u001b[0m\n",
            "\u001b[1;32m~\\anaconda3\\lib\\site-packages\\tensorflow\\python\\eager\\execute.py\u001b[0m in \u001b[0;36mquick_execute\u001b[1;34m(op_name, num_outputs, inputs, attrs, ctx, name)\u001b[0m\n\u001b[0;32m     56\u001b[0m   \u001b[1;32mtry\u001b[0m\u001b[1;33m:\u001b[0m\u001b[1;33m\u001b[0m\u001b[1;33m\u001b[0m\u001b[0m\n\u001b[0;32m     57\u001b[0m     \u001b[0mctx\u001b[0m\u001b[1;33m.\u001b[0m\u001b[0mensure_initialized\u001b[0m\u001b[1;33m(\u001b[0m\u001b[1;33m)\u001b[0m\u001b[1;33m\u001b[0m\u001b[1;33m\u001b[0m\u001b[0m\n\u001b[1;32m---> 58\u001b[1;33m     tensors = pywrap_tfe.TFE_Py_Execute(ctx._handle, device_name, op_name,\n\u001b[0m\u001b[0;32m     59\u001b[0m                                         inputs, attrs, num_outputs)\n\u001b[0;32m     60\u001b[0m   \u001b[1;32mexcept\u001b[0m \u001b[0mcore\u001b[0m\u001b[1;33m.\u001b[0m\u001b[0m_NotOkStatusException\u001b[0m \u001b[1;32mas\u001b[0m \u001b[0me\u001b[0m\u001b[1;33m:\u001b[0m\u001b[1;33m\u001b[0m\u001b[1;33m\u001b[0m\u001b[0m\n",
            "\u001b[1;31mKeyboardInterrupt\u001b[0m: "
          ]
        }
      ],
      "source": [
        "# 15번 셀\n",
        "\n",
        "# CNN 학습\n",
        "model.compile(optimizer='adam',\n",
        "                loss='binary_crossentropy',\n",
        "                metrics=['acc'])\n",
        "\n",
        "path = os.path.join(MY_PATH,'chest.h5')\n",
        "if TRAIN_MODE: # (==1)\n",
        "    print('학습 시작')\n",
        "    begin = time()\n",
        "\n",
        "    model.fit(X_train,Y_train,\n",
        "                epochs=MY_EPOCH,\n",
        "                batch_size=MY_BATCH,\n",
        "                verbose=1)\n",
        "\n",
        "    end = time()\n",
        "    print('총 학습 시간 :',end - begin)\n",
        "    model.save_weights(path)\n",
        "else: # (==0)\n",
        "    model.load_weight(path)"
      ]
    },
    {
      "cell_type": "code",
      "execution_count": null,
      "metadata": {},
      "outputs": [],
      "source": [
        "# 16번 셀\n",
        "\n",
        "# CNN 평가\n",
        "score = model.evaluate(X_test,\n",
        "                        Y_test)\n",
        "\n",
        "print('최종 정확도:',score[1])"
      ]
    }
  ],
  "metadata": {
    "accelerator": "GPU",
    "colab": {
      "collapsed_sections": [],
      "name": "9. 폐렴",
      "provenance": []
    },
    "kernelspec": {
      "display_name": "Python 3",
      "name": "python3"
    },
    "language_info": {
      "codemirror_mode": {
        "name": "ipython",
        "version": 3
      },
      "file_extension": ".py",
      "mimetype": "text/x-python",
      "name": "python",
      "nbconvert_exporter": "python",
      "pygments_lexer": "ipython3",
      "version": "3.9.7"
    }
  },
  "nbformat": 4,
  "nbformat_minor": 0
}
