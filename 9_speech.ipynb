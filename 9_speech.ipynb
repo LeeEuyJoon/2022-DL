{
 "cells": [
  {
   "cell_type": "markdown",
   "metadata": {},
   "source": [
    "# [CNN + RNN + DNN으로 음성 인식하기]"
   ]
  },
  {
   "cell_type": "code",
   "execution_count": 1,
   "metadata": {},
   "outputs": [],
   "source": [
    "# 1번 셀\n",
    "\n",
    "# 패키지 수입\n",
    "import os\n",
    "import numpy as np\n",
    "import random\n",
    "from time import time\n",
    "\n",
    "from sklearn.preprocessing import LabelEncoder\n",
    "from keras.utils.np_utils import to_categorical\n",
    "from sklearn.model_selection import train_test_split\n",
    "\n",
    "from tqdm import tqdm\n",
    "import librosa\n",
    "import librosa.display\n",
    "import matplotlib.pyplot as plt\n",
    "\n",
    "from keras.layers import BatchNormalization\n",
    "from keras.layers import GRU,Dense,Dropout\n",
    "from keras.layers import Conv1D, Input, MaxPool1D\n",
    "from keras.layers import Bidirectional\n",
    "from keras.models import Model"
   ]
  },
  {
   "cell_type": "code",
   "execution_count": 2,
   "metadata": {},
   "outputs": [],
   "source": [
    "# 2번 셀\n",
    "\n",
    "# 하이퍼 파라미터\n",
    "MY_SPLIT = 0.8\n",
    "MY_HIDDEN = 128\n",
    "MY_DROP = 0.3\n",
    "MY_BATCH = 128\n",
    "MY_EPOCH = 20\n",
    "MY_RATE = 8000\n",
    "\n",
    "# 모드 선택\n",
    "DATA_MODE = 0\n",
    "TRAIN_MODE = 1\n",
    "\n",
    "# 데이터 저장 창고\n",
    "all_wave = []   # 처리된 음성 데이터\n",
    "all_label = []  # 처리된 음성 라벨\n",
    "\n",
    "MY_PATH = 'C:/Users/wds66/Desktop/work/2022_Georgia/audio'"
   ]
  },
  {
   "cell_type": "code",
   "execution_count": 3,
   "metadata": {},
   "outputs": [
    {
     "name": "stdout",
     "output_type": "stream",
     "text": [
      "오디오 데이터 원본 : [ 1.2472774e-04 -1.0550164e-04 -2.6962085e-04 ...  5.1089493e-05\n",
      "  3.3633485e-05 -2.3895914e-06]\n",
      "오디오 데이터 숫자 개수 : 22050\n",
      "sampling rate: 22050\n"
     ]
    },
    {
     "data": {
      "image/png": "[encoded data removed]",
      "text/plain": [
       "<Figure size 432x288 with 1 Axes>"
      ]
     },
     "metadata": {
      "needs_background": "light"
     },
     "output_type": "display_data"
    }
   ],
   "source": [
    "# 3번 셀\n",
    "\n",
    "# 음성 라벨\n",
    "labels = ['go','happy','seven','stop','yes']\n",
    "\n",
    "# 샘플 오디오 파일 읽기\n",
    "path = os.path.join(MY_PATH, 'SKL-yes.wav')\n",
    "sound, rate = librosa.load(path)\n",
    "print('오디오 데이터 원본 :', sound)\n",
    "print('오디오 데이터 숫자 개수 :', len(sound)) # 22050HZ = 22.05KHz (CD 음질의 반)\n",
    "print('sampling rate:',rate)\n",
    "\n",
    "# 오디오 데이터의 시각화\n",
    "librosa.display.waveplot(sound,rate)\n",
    "plt.show()"
   ]
  },
  {
   "cell_type": "code",
   "execution_count": 4,
   "metadata": {},
   "outputs": [],
   "source": [
    "# 4번 셀\n",
    "\n",
    "# 오디오 다운 샘플링\n",
    "def read_wave():\n",
    "    print('<resampling 시작>')\n",
    "    begin = time()\n",
    "    \n",
    "    # tqdm 함수로 진행 상황 출력\n",
    "    for label in tqdm(labels):\n",
    "        path = MY_PATH + '/' + label\n",
    "        # print(path)\n",
    "        waves = [f for f in os.listdir(path)]\n",
    "        # print(waves[:5])\n",
    "        \n",
    "        for wav in waves:\n",
    "            full = MY_PATH + '/' + label + '/' + wav\n",
    "            # print(full)\n",
    "            sound, rate = librosa.load(full)\n",
    "            # print(sound)\n",
    "            # print(rate)\n",
    "            \n",
    "            # 8KHz로 다운 샘플링\n",
    "            # 22,050개의 숫자를 8,000개로 줄이는 과정\n",
    "            # librosa의 resample 함수는 반드시 성공의 보장이 없음\n",
    "            new = librosa.resample(sound,\n",
    "                                    orig_sr = rate,\n",
    "                                    target_sr = MY_RATE)\n",
    "            # print(new)\n",
    "            # print(len(new))\n",
    "            \n",
    "            # 다운 샘플링이 성공적으로 8KHz로 된 것만 저장\n",
    "            if (len(new) == 8000):\n",
    "                all_wave.append(new)\n",
    "                all_label.append(label)\n",
    "            # else:\n",
    "            #     print('실패:',len(new))\n",
    "            \n",
    "    end = time()\n",
    "    print('총 다운 샘플링 시간:',end-begin)\n",
    "    print('정상 다운 샘플링 처리된 데이터 수:',len(all_wave))\n",
    "\n"
   ]
  },
  {
   "cell_type": "code",
   "execution_count": 5,
   "metadata": {},
   "outputs": [],
   "source": [
    "# 5번 셀\n",
    "\n",
    "def do_label():\n",
    "    global all_label, all_wave\n",
    "# 라벨 처리 (sklearn)  // sklearn 토큰화는 0부터 , keras 토큰화는 1부터 시작함\n",
    "    # print('-토큰 처리 전 라벨 데이터-\\n',all_label)\n",
    "    encoder = LabelEncoder()\n",
    "    all_label = encoder.fit_transform(all_label)\n",
    "    # print('-토큰 처리 후 라벨 데이터-\\n',all_label)\n",
    "\n",
    "    # 원핫 인코딩\n",
    "    all_label = to_categorical(all_label,5)\n",
    "    # print('원핫 인코딩 처리 후 라벨 데이터-\\n',all_label)\n",
    "\n",
    "    # numpy 전환\n",
    "    # print('all_label type :',type(all_label))\n",
    "    # print('all_label type :',type(all_wave))\n",
    "    all_wave = np.array(all_wave)\n",
    "    \n",
    "    # 모양 데이터에서 -1 : 'keras가 알아서 계산하라'\n",
    "    # print('all_wave shape (reshape 전) :',all_wave.shape)\n",
    "    all_wave = all_wave.reshape(-1, 8000, 1)\n",
    "    # print('all_wave shape (reshape 후) :',all_wave.shape)\n",
    "    "
   ]
  },
  {
   "cell_type": "code",
   "execution_count": 6,
   "metadata": {},
   "outputs": [
    {
     "name": "stdout",
     "output_type": "stream",
     "text": [
      "데이터 파일 읽기 완료 완료\n"
     ]
    }
   ],
   "source": [
    "# 6번 셀\n",
    "\n",
    "# 데이터 처리 control tower\n",
    "path = os.path.join(MY_PATH,'audio.npy')\n",
    "\n",
    "if DATA_MODE:\n",
    "    read_wave()\n",
    "    do_label()\n",
    "    \n",
    "    with open(path,'wb') as file:\n",
    "        np.save(file,all_wave)\n",
    "        np.save(file,all_label)\n",
    "    \n",
    "    print('데이터 처리 및 저장 완료')\n",
    "else:\n",
    "    with open(path,'rb') as file:\n",
    "        all_wave = np.load(file)\n",
    "        all_label = np.load(file)\n",
    "    print('데이터 파일 읽기 완료 완료')\n",
    "        "
   ]
  },
  {
   "cell_type": "code",
   "execution_count": 7,
   "metadata": {},
   "outputs": [
    {
     "name": "stdout",
     "output_type": "stream",
     "text": [
      "X_train 모양 : (711, 8000, 1)\n",
      "Y_train 모양 : (711, 5)\n",
      "X_test 모양  : (178, 8000, 1)\n",
      "Y_test 모양  : (178, 5)\n"
     ]
    }
   ],
   "source": [
    "# 7번 셀\n",
    "\n",
    "# 데이터 4분할\n",
    "X_train, X_test, Y_train, Y_test = train_test_split(all_wave,\n",
    "                                                    all_label,\n",
    "                                                    train_size=MY_SPLIT,\n",
    "                                                    shuffle = True)\n",
    "# 데이터 모양\n",
    "print('X_train 모양 :', X_train.shape)\n",
    "print('Y_train 모양 :', Y_train.shape)\n",
    "print('X_test 모양  :', X_test.shape)\n",
    "print('Y_test 모양  :', Y_test.shape)\n"
   ]
  },
  {
   "cell_type": "code",
   "execution_count": 9,
   "metadata": {},
   "outputs": [
    {
     "name": "stdout",
     "output_type": "stream",
     "text": [
      "Model: \"model\"\n",
      "_________________________________________________________________\n",
      " Layer (type)                Output Shape              Param #   \n",
      "=================================================================\n",
      " input_2 (InputLayer)        [(None, 8000, 1)]         0         \n",
      "                                                                 \n",
      " batch_normalization_3 (Batc  (None, 8000, 1)          4         \n",
      " hNormalization)                                                 \n",
      "                                                                 \n",
      " conv1d_3 (Conv1D)           (None, 7988, 8)           112       \n",
      "                                                                 \n",
      " max_pooling1d_3 (MaxPooling  (None, 2662, 8)          0         \n",
      " 1D)                                                             \n",
      "                                                                 \n",
      " dropout_3 (Dropout)         (None, 2662, 8)           0         \n",
      "                                                                 \n",
      " conv1d_4 (Conv1D)           (None, 2652, 16)          1424      \n",
      "                                                                 \n",
      " max_pooling1d_4 (MaxPooling  (None, 884, 16)          0         \n",
      " 1D)                                                             \n",
      "                                                                 \n",
      " dropout_4 (Dropout)         (None, 884, 16)           0         \n",
      "                                                                 \n",
      " conv1d_5 (Conv1D)           (None, 876, 32)           4640      \n",
      "                                                                 \n",
      " max_pooling1d_5 (MaxPooling  (None, 292, 32)          0         \n",
      " 1D)                                                             \n",
      "                                                                 \n",
      " dropout_5 (Dropout)         (None, 292, 32)           0         \n",
      "                                                                 \n",
      " batch_normalization_4 (Batc  (None, 292, 32)          128       \n",
      " hNormalization)                                                 \n",
      "                                                                 \n",
      " bidirectional_3 (Bidirectio  (None, 292, 128)         124416    \n",
      " nal)                                                            \n",
      "                                                                 \n",
      " bidirectional_4 (Bidirectio  (None, 292, 128)         198144    \n",
      " nal)                                                            \n",
      "                                                                 \n",
      " bidirectional_5 (Bidirectio  (None, 128)              198144    \n",
      " nal)                                                            \n",
      "                                                                 \n",
      " batch_normalization_5 (Batc  (None, 128)              512       \n",
      " hNormalization)                                                 \n",
      "                                                                 \n",
      " dense (Dense)               (None, 256)               33024     \n",
      "                                                                 \n",
      " dense_1 (Dense)             (None, 5)                 1285      \n",
      "                                                                 \n",
      "=================================================================\n",
      "Total params: 561,833\n",
      "Trainable params: 561,511\n",
      "Non-trainable params: 322\n",
      "_________________________________________________________________\n"
     ]
    }
   ],
   "source": [
    "# 8번 셀\n",
    "\n",
    "# 음성 인식기 구현\n",
    "# 입력층\n",
    "my_input = Input(shape=(MY_RATE,1))\n",
    "\n",
    "# 2번 그룹\n",
    "x = BatchNormalization()(my_input)\n",
    "x = Conv1D(filters=8,\n",
    "            kernel_size=13,\n",
    "            activation='relu')(x)\n",
    "x = MaxPool1D(pool_size=3)(x)\n",
    "x = Dropout(MY_DROP)(x)\n",
    "\n",
    "# 3번 그룹\n",
    "x = Conv1D(filters=16,\n",
    "            kernel_size=11,\n",
    "            activation='relu')(x)\n",
    "x = MaxPool1D(pool_size=3)(x)\n",
    "x = Dropout(MY_DROP)(x)\n",
    "\n",
    "\n",
    "# 4번 그룹\n",
    "x = Conv1D(filters=32,\n",
    "            kernel_size=9,\n",
    "            activation='relu')(x)\n",
    "x = MaxPool1D(pool_size=3)(x)\n",
    "x = Dropout(MY_DROP)(x)\n",
    "x = BatchNormalization()(x)\n",
    "\n",
    "# 5번 그룹\n",
    "x = Bidirectional(GRU(units=MY_HIDDEN,\n",
    "                        return_sequences=True),\n",
    "                    merge_mode = 'sum')(x)\n",
    "\n",
    "x = Bidirectional(GRU(units=MY_HIDDEN,\n",
    "                        return_sequences=True),\n",
    "                    merge_mode = 'sum')(x)\n",
    "\n",
    "x = Bidirectional(GRU(units=MY_HIDDEN,\n",
    "                        return_sequences=False),\n",
    "                    merge_mode = 'sum')(x)\n",
    "\n",
    "# 6번 그룹\n",
    "x = BatchNormalization()(x)\n",
    "x = Dense(units=256,\n",
    "            activation='relu')(x)\n",
    "x = Dense(units=5,\n",
    "            activation='softmax')(x)\n",
    "\n",
    "# 인공 신경망 요약\n",
    "model = Model(inputs=my_input,\n",
    "                outputs=x)\n",
    "model.summary()"
   ]
  },
  {
   "cell_type": "code",
   "execution_count": 10,
   "metadata": {},
   "outputs": [
    {
     "name": "stdout",
     "output_type": "stream",
     "text": [
      "학습 시작\n",
      "Epoch 1/20\n",
      "6/6 [==============================] - 66s 9s/step - loss: 1.7651 - acc: 0.2152\n",
      "Epoch 2/20\n",
      "6/6 [==============================] - 119s 20s/step - loss: 1.6581 - acc: 0.2293\n",
      "Epoch 3/20\n",
      "6/6 [==============================] - 112s 18s/step - loss: 1.6327 - acc: 0.2180\n",
      "Epoch 4/20\n",
      "6/6 [==============================] - 108s 17s/step - loss: 1.6104 - acc: 0.2588\n",
      "Epoch 5/20\n",
      "6/6 [==============================] - 141s 23s/step - loss: 1.5943 - acc: 0.2574\n",
      "Epoch 6/20\n",
      "2/6 [=========>....................] - ETA: 44s - loss: 1.5601 - acc: 0.2734 "
     ]
    },
    {
     "ename": "KeyboardInterrupt",
     "evalue": "",
     "output_type": "error",
     "traceback": [
      "\u001b[1;31m---------------------------------------------------------------------------\u001b[0m",
      "\u001b[1;31mKeyboardInterrupt\u001b[0m                         Traceback (most recent call last)",
      "\u001b[1;32m~\\AppData\\Local\\Temp/ipykernel_5500/2279550219.py\u001b[0m in \u001b[0;36m<module>\u001b[1;34m\u001b[0m\n\u001b[0;32m     11\u001b[0m     \u001b[0mprint\u001b[0m\u001b[1;33m(\u001b[0m\u001b[1;34m'학습 시작'\u001b[0m\u001b[1;33m)\u001b[0m\u001b[1;33m\u001b[0m\u001b[1;33m\u001b[0m\u001b[0m\n\u001b[0;32m     12\u001b[0m \u001b[1;33m\u001b[0m\u001b[0m\n\u001b[1;32m---> 13\u001b[1;33m     model.fit(X_train,\n\u001b[0m\u001b[0;32m     14\u001b[0m                 \u001b[0mY_train\u001b[0m\u001b[1;33m,\u001b[0m\u001b[1;33m\u001b[0m\u001b[1;33m\u001b[0m\u001b[0m\n\u001b[0;32m     15\u001b[0m                 \u001b[0mepochs\u001b[0m\u001b[1;33m=\u001b[0m\u001b[0mMY_EPOCH\u001b[0m\u001b[1;33m,\u001b[0m\u001b[1;33m\u001b[0m\u001b[1;33m\u001b[0m\u001b[0m\n",
      "\u001b[1;32m~\\anaconda3\\lib\\site-packages\\keras\\utils\\traceback_utils.py\u001b[0m in \u001b[0;36merror_handler\u001b[1;34m(*args, **kwargs)\u001b[0m\n\u001b[0;32m     62\u001b[0m     \u001b[0mfiltered_tb\u001b[0m \u001b[1;33m=\u001b[0m \u001b[1;32mNone\u001b[0m\u001b[1;33m\u001b[0m\u001b[1;33m\u001b[0m\u001b[0m\n\u001b[0;32m     63\u001b[0m     \u001b[1;32mtry\u001b[0m\u001b[1;33m:\u001b[0m\u001b[1;33m\u001b[0m\u001b[1;33m\u001b[0m\u001b[0m\n\u001b[1;32m---> 64\u001b[1;33m       \u001b[1;32mreturn\u001b[0m \u001b[0mfn\u001b[0m\u001b[1;33m(\u001b[0m\u001b[1;33m*\u001b[0m\u001b[0margs\u001b[0m\u001b[1;33m,\u001b[0m \u001b[1;33m**\u001b[0m\u001b[0mkwargs\u001b[0m\u001b[1;33m)\u001b[0m\u001b[1;33m\u001b[0m\u001b[1;33m\u001b[0m\u001b[0m\n\u001b[0m\u001b[0;32m     65\u001b[0m     \u001b[1;32mexcept\u001b[0m \u001b[0mException\u001b[0m \u001b[1;32mas\u001b[0m \u001b[0me\u001b[0m\u001b[1;33m:\u001b[0m  \u001b[1;31m# pylint: disable=broad-except\u001b[0m\u001b[1;33m\u001b[0m\u001b[1;33m\u001b[0m\u001b[0m\n\u001b[0;32m     66\u001b[0m       \u001b[0mfiltered_tb\u001b[0m \u001b[1;33m=\u001b[0m \u001b[0m_process_traceback_frames\u001b[0m\u001b[1;33m(\u001b[0m\u001b[0me\u001b[0m\u001b[1;33m.\u001b[0m\u001b[0m__traceback__\u001b[0m\u001b[1;33m)\u001b[0m\u001b[1;33m\u001b[0m\u001b[1;33m\u001b[0m\u001b[0m\n",
      "\u001b[1;32m~\\anaconda3\\lib\\site-packages\\keras\\engine\\training.py\u001b[0m in \u001b[0;36mfit\u001b[1;34m(self, x, y, batch_size, epochs, verbose, callbacks, validation_split, validation_data, shuffle, class_weight, sample_weight, initial_epoch, steps_per_epoch, validation_steps, validation_batch_size, validation_freq, max_queue_size, workers, use_multiprocessing)\u001b[0m\n\u001b[0;32m   1214\u001b[0m                 _r=1):\n\u001b[0;32m   1215\u001b[0m               \u001b[0mcallbacks\u001b[0m\u001b[1;33m.\u001b[0m\u001b[0mon_train_batch_begin\u001b[0m\u001b[1;33m(\u001b[0m\u001b[0mstep\u001b[0m\u001b[1;33m)\u001b[0m\u001b[1;33m\u001b[0m\u001b[1;33m\u001b[0m\u001b[0m\n\u001b[1;32m-> 1216\u001b[1;33m               \u001b[0mtmp_logs\u001b[0m \u001b[1;33m=\u001b[0m \u001b[0mself\u001b[0m\u001b[1;33m.\u001b[0m\u001b[0mtrain_function\u001b[0m\u001b[1;33m(\u001b[0m\u001b[0miterator\u001b[0m\u001b[1;33m)\u001b[0m\u001b[1;33m\u001b[0m\u001b[1;33m\u001b[0m\u001b[0m\n\u001b[0m\u001b[0;32m   1217\u001b[0m               \u001b[1;32mif\u001b[0m \u001b[0mdata_handler\u001b[0m\u001b[1;33m.\u001b[0m\u001b[0mshould_sync\u001b[0m\u001b[1;33m:\u001b[0m\u001b[1;33m\u001b[0m\u001b[1;33m\u001b[0m\u001b[0m\n\u001b[0;32m   1218\u001b[0m                 \u001b[0mcontext\u001b[0m\u001b[1;33m.\u001b[0m\u001b[0masync_wait\u001b[0m\u001b[1;33m(\u001b[0m\u001b[1;33m)\u001b[0m\u001b[1;33m\u001b[0m\u001b[1;33m\u001b[0m\u001b[0m\n",
      "\u001b[1;32m~\\anaconda3\\lib\\site-packages\\tensorflow\\python\\util\\traceback_utils.py\u001b[0m in \u001b[0;36merror_handler\u001b[1;34m(*args, **kwargs)\u001b[0m\n\u001b[0;32m    148\u001b[0m     \u001b[0mfiltered_tb\u001b[0m \u001b[1;33m=\u001b[0m \u001b[1;32mNone\u001b[0m\u001b[1;33m\u001b[0m\u001b[1;33m\u001b[0m\u001b[0m\n\u001b[0;32m    149\u001b[0m     \u001b[1;32mtry\u001b[0m\u001b[1;33m:\u001b[0m\u001b[1;33m\u001b[0m\u001b[1;33m\u001b[0m\u001b[0m\n\u001b[1;32m--> 150\u001b[1;33m       \u001b[1;32mreturn\u001b[0m \u001b[0mfn\u001b[0m\u001b[1;33m(\u001b[0m\u001b[1;33m*\u001b[0m\u001b[0margs\u001b[0m\u001b[1;33m,\u001b[0m \u001b[1;33m**\u001b[0m\u001b[0mkwargs\u001b[0m\u001b[1;33m)\u001b[0m\u001b[1;33m\u001b[0m\u001b[1;33m\u001b[0m\u001b[0m\n\u001b[0m\u001b[0;32m    151\u001b[0m     \u001b[1;32mexcept\u001b[0m \u001b[0mException\u001b[0m \u001b[1;32mas\u001b[0m \u001b[0me\u001b[0m\u001b[1;33m:\u001b[0m\u001b[1;33m\u001b[0m\u001b[1;33m\u001b[0m\u001b[0m\n\u001b[0;32m    152\u001b[0m       \u001b[0mfiltered_tb\u001b[0m \u001b[1;33m=\u001b[0m \u001b[0m_process_traceback_frames\u001b[0m\u001b[1;33m(\u001b[0m\u001b[0me\u001b[0m\u001b[1;33m.\u001b[0m\u001b[0m__traceback__\u001b[0m\u001b[1;33m)\u001b[0m\u001b[1;33m\u001b[0m\u001b[1;33m\u001b[0m\u001b[0m\n",
      "\u001b[1;32m~\\anaconda3\\lib\\site-packages\\tensorflow\\python\\eager\\def_function.py\u001b[0m in \u001b[0;36m__call__\u001b[1;34m(self, *args, **kwds)\u001b[0m\n\u001b[0;32m    908\u001b[0m \u001b[1;33m\u001b[0m\u001b[0m\n\u001b[0;32m    909\u001b[0m       \u001b[1;32mwith\u001b[0m \u001b[0mOptionalXlaContext\u001b[0m\u001b[1;33m(\u001b[0m\u001b[0mself\u001b[0m\u001b[1;33m.\u001b[0m\u001b[0m_jit_compile\u001b[0m\u001b[1;33m)\u001b[0m\u001b[1;33m:\u001b[0m\u001b[1;33m\u001b[0m\u001b[1;33m\u001b[0m\u001b[0m\n\u001b[1;32m--> 910\u001b[1;33m         \u001b[0mresult\u001b[0m \u001b[1;33m=\u001b[0m \u001b[0mself\u001b[0m\u001b[1;33m.\u001b[0m\u001b[0m_call\u001b[0m\u001b[1;33m(\u001b[0m\u001b[1;33m*\u001b[0m\u001b[0margs\u001b[0m\u001b[1;33m,\u001b[0m \u001b[1;33m**\u001b[0m\u001b[0mkwds\u001b[0m\u001b[1;33m)\u001b[0m\u001b[1;33m\u001b[0m\u001b[1;33m\u001b[0m\u001b[0m\n\u001b[0m\u001b[0;32m    911\u001b[0m \u001b[1;33m\u001b[0m\u001b[0m\n\u001b[0;32m    912\u001b[0m       \u001b[0mnew_tracing_count\u001b[0m \u001b[1;33m=\u001b[0m \u001b[0mself\u001b[0m\u001b[1;33m.\u001b[0m\u001b[0mexperimental_get_tracing_count\u001b[0m\u001b[1;33m(\u001b[0m\u001b[1;33m)\u001b[0m\u001b[1;33m\u001b[0m\u001b[1;33m\u001b[0m\u001b[0m\n",
      "\u001b[1;32m~\\anaconda3\\lib\\site-packages\\tensorflow\\python\\eager\\def_function.py\u001b[0m in \u001b[0;36m_call\u001b[1;34m(self, *args, **kwds)\u001b[0m\n\u001b[0;32m    940\u001b[0m       \u001b[1;31m# In this case we have created variables on the first call, so we run the\u001b[0m\u001b[1;33m\u001b[0m\u001b[1;33m\u001b[0m\u001b[0m\n\u001b[0;32m    941\u001b[0m       \u001b[1;31m# defunned version which is guaranteed to never create variables.\u001b[0m\u001b[1;33m\u001b[0m\u001b[1;33m\u001b[0m\u001b[0m\n\u001b[1;32m--> 942\u001b[1;33m       \u001b[1;32mreturn\u001b[0m \u001b[0mself\u001b[0m\u001b[1;33m.\u001b[0m\u001b[0m_stateless_fn\u001b[0m\u001b[1;33m(\u001b[0m\u001b[1;33m*\u001b[0m\u001b[0margs\u001b[0m\u001b[1;33m,\u001b[0m \u001b[1;33m**\u001b[0m\u001b[0mkwds\u001b[0m\u001b[1;33m)\u001b[0m  \u001b[1;31m# pylint: disable=not-callable\u001b[0m\u001b[1;33m\u001b[0m\u001b[1;33m\u001b[0m\u001b[0m\n\u001b[0m\u001b[0;32m    943\u001b[0m     \u001b[1;32melif\u001b[0m \u001b[0mself\u001b[0m\u001b[1;33m.\u001b[0m\u001b[0m_stateful_fn\u001b[0m \u001b[1;32mis\u001b[0m \u001b[1;32mnot\u001b[0m \u001b[1;32mNone\u001b[0m\u001b[1;33m:\u001b[0m\u001b[1;33m\u001b[0m\u001b[1;33m\u001b[0m\u001b[0m\n\u001b[0;32m    944\u001b[0m       \u001b[1;31m# Release the lock early so that multiple threads can perform the call\u001b[0m\u001b[1;33m\u001b[0m\u001b[1;33m\u001b[0m\u001b[0m\n",
      "\u001b[1;32m~\\anaconda3\\lib\\site-packages\\tensorflow\\python\\eager\\function.py\u001b[0m in \u001b[0;36m__call__\u001b[1;34m(self, *args, **kwargs)\u001b[0m\n\u001b[0;32m   3128\u001b[0m       (graph_function,\n\u001b[0;32m   3129\u001b[0m        filtered_flat_args) = self._maybe_define_function(args, kwargs)\n\u001b[1;32m-> 3130\u001b[1;33m     return graph_function._call_flat(\n\u001b[0m\u001b[0;32m   3131\u001b[0m         filtered_flat_args, captured_inputs=graph_function.captured_inputs)  # pylint: disable=protected-access\n\u001b[0;32m   3132\u001b[0m \u001b[1;33m\u001b[0m\u001b[0m\n",
      "\u001b[1;32m~\\anaconda3\\lib\\site-packages\\tensorflow\\python\\eager\\function.py\u001b[0m in \u001b[0;36m_call_flat\u001b[1;34m(self, args, captured_inputs, cancellation_manager)\u001b[0m\n\u001b[0;32m   1957\u001b[0m         and executing_eagerly):\n\u001b[0;32m   1958\u001b[0m       \u001b[1;31m# No tape is watching; skip to running the function.\u001b[0m\u001b[1;33m\u001b[0m\u001b[1;33m\u001b[0m\u001b[0m\n\u001b[1;32m-> 1959\u001b[1;33m       return self._build_call_outputs(self._inference_function.call(\n\u001b[0m\u001b[0;32m   1960\u001b[0m           ctx, args, cancellation_manager=cancellation_manager))\n\u001b[0;32m   1961\u001b[0m     forward_backward = self._select_forward_and_backward_functions(\n",
      "\u001b[1;32m~\\anaconda3\\lib\\site-packages\\tensorflow\\python\\eager\\function.py\u001b[0m in \u001b[0;36mcall\u001b[1;34m(self, ctx, args, cancellation_manager)\u001b[0m\n\u001b[0;32m    596\u001b[0m       \u001b[1;32mwith\u001b[0m \u001b[0m_InterpolateFunctionError\u001b[0m\u001b[1;33m(\u001b[0m\u001b[0mself\u001b[0m\u001b[1;33m)\u001b[0m\u001b[1;33m:\u001b[0m\u001b[1;33m\u001b[0m\u001b[1;33m\u001b[0m\u001b[0m\n\u001b[0;32m    597\u001b[0m         \u001b[1;32mif\u001b[0m \u001b[0mcancellation_manager\u001b[0m \u001b[1;32mis\u001b[0m \u001b[1;32mNone\u001b[0m\u001b[1;33m:\u001b[0m\u001b[1;33m\u001b[0m\u001b[1;33m\u001b[0m\u001b[0m\n\u001b[1;32m--> 598\u001b[1;33m           outputs = execute.execute(\n\u001b[0m\u001b[0;32m    599\u001b[0m               \u001b[0mstr\u001b[0m\u001b[1;33m(\u001b[0m\u001b[0mself\u001b[0m\u001b[1;33m.\u001b[0m\u001b[0msignature\u001b[0m\u001b[1;33m.\u001b[0m\u001b[0mname\u001b[0m\u001b[1;33m)\u001b[0m\u001b[1;33m,\u001b[0m\u001b[1;33m\u001b[0m\u001b[1;33m\u001b[0m\u001b[0m\n\u001b[0;32m    600\u001b[0m               \u001b[0mnum_outputs\u001b[0m\u001b[1;33m=\u001b[0m\u001b[0mself\u001b[0m\u001b[1;33m.\u001b[0m\u001b[0m_num_outputs\u001b[0m\u001b[1;33m,\u001b[0m\u001b[1;33m\u001b[0m\u001b[1;33m\u001b[0m\u001b[0m\n",
      "\u001b[1;32m~\\anaconda3\\lib\\site-packages\\tensorflow\\python\\eager\\execute.py\u001b[0m in \u001b[0;36mquick_execute\u001b[1;34m(op_name, num_outputs, inputs, attrs, ctx, name)\u001b[0m\n\u001b[0;32m     56\u001b[0m   \u001b[1;32mtry\u001b[0m\u001b[1;33m:\u001b[0m\u001b[1;33m\u001b[0m\u001b[1;33m\u001b[0m\u001b[0m\n\u001b[0;32m     57\u001b[0m     \u001b[0mctx\u001b[0m\u001b[1;33m.\u001b[0m\u001b[0mensure_initialized\u001b[0m\u001b[1;33m(\u001b[0m\u001b[1;33m)\u001b[0m\u001b[1;33m\u001b[0m\u001b[1;33m\u001b[0m\u001b[0m\n\u001b[1;32m---> 58\u001b[1;33m     tensors = pywrap_tfe.TFE_Py_Execute(ctx._handle, device_name, op_name,\n\u001b[0m\u001b[0;32m     59\u001b[0m                                         inputs, attrs, num_outputs)\n\u001b[0;32m     60\u001b[0m   \u001b[1;32mexcept\u001b[0m \u001b[0mcore\u001b[0m\u001b[1;33m.\u001b[0m\u001b[0m_NotOkStatusException\u001b[0m \u001b[1;32mas\u001b[0m \u001b[0me\u001b[0m\u001b[1;33m:\u001b[0m\u001b[1;33m\u001b[0m\u001b[1;33m\u001b[0m\u001b[0m\n",
      "\u001b[1;31mKeyboardInterrupt\u001b[0m: "
     ]
    }
   ],
   "source": [
    "# 9번 셀\n",
    "\n",
    "# 음성 인식기 학습\n",
    "model.compile(optimizer='adam',\n",
    "                loss='categorical_crossentropy',\n",
    "                metrics=['acc'])\n",
    "path = MY_PATH + '/audio.h5'\n",
    "\n",
    "if TRAIN_MODE:\n",
    "    begin = time()\n",
    "    print('학습 시작')\n",
    "    \n",
    "    model.fit(X_train,\n",
    "                Y_train,\n",
    "                epochs=MY_EPOCH,\n",
    "                batch_size = MY_BATCH,\n",
    "                verbose=1)\n",
    "    \n",
    "    end = time()\n",
    "    print('총 학습 시간:',end - begin)\n",
    "    model.save_weight(path)\n",
    "else:\n",
    "    model.load_weight(path)"
   ]
  },
  {
   "cell_type": "code",
   "execution_count": null,
   "metadata": {},
   "outputs": [],
   "source": [
    "# 10번 셀\n",
    "\n",
    "# 음성 인식기 평가\n",
    "score = model.evaluate(X_test,\n",
    "                        Y_test)\n",
    "\n",
    "print('최종 정확도:', score[1])"
   ]
  },
  {
   "cell_type": "code",
   "execution_count": 15,
   "metadata": {},
   "outputs": [
    {
     "name": "stdout",
     "output_type": "stream",
     "text": [
      "22050\n",
      "내 음성 다운 샘플리 결과 : 8000\n",
      "<class 'numpy.ndarray'>\n",
      "(8000,)\n"
     ]
    },
    {
     "ename": "NameError",
     "evalue": "name 'moedel' is not defined",
     "output_type": "error",
     "traceback": [
      "\u001b[1;31m---------------------------------------------------------------------------\u001b[0m",
      "\u001b[1;31mNameError\u001b[0m                                 Traceback (most recent call last)",
      "\u001b[1;32m~\\AppData\\Local\\Temp/ipykernel_5500/3049279030.py\u001b[0m in \u001b[0;36m<module>\u001b[1;34m\u001b[0m\n\u001b[0;32m     19\u001b[0m \u001b[1;33m\u001b[0m\u001b[0m\n\u001b[0;32m     20\u001b[0m \u001b[1;31m# 음성 인식기 예측\u001b[0m\u001b[1;33m\u001b[0m\u001b[1;33m\u001b[0m\u001b[0m\n\u001b[1;32m---> 21\u001b[1;33m \u001b[0mpred\u001b[0m \u001b[1;33m=\u001b[0m \u001b[0mmoedel\u001b[0m\u001b[1;33m.\u001b[0m\u001b[0mpredict\u001b[0m\u001b[1;33m(\u001b[0m\u001b[0msound\u001b[0m\u001b[1;33m)\u001b[0m\u001b[1;33m\u001b[0m\u001b[1;33m\u001b[0m\u001b[0m\n\u001b[0m",
      "\u001b[1;31mNameError\u001b[0m: name 'moedel' is not defined"
     ]
    }
   ],
   "source": [
    "# 11번 셀\n",
    "\n",
    "path = MY_PATH + '/SKL-yes.wav'\n",
    "sound, rate = librosa.load(path)\n",
    "print(rate)\n",
    "\n",
    "# 8KHz로 다운 샘플링\n",
    "sound = librosa.resample(sound,\n",
    "                orig_sr=rate,\n",
    "                target_sr=MY_RATE)\n",
    "\n",
    "print('내 음성 다운 샘플리 결과 :',len(sound))\n",
    "\n",
    "# 모양 정리\n",
    "# 배치 정보 추가 : (1, 8000, 1)\n",
    "print(type(sound))\n",
    "print(sound.shape)\n",
    "sound = sound.reshape(1,MY_RATE,1)\n",
    "\n",
    "# 음성 인식기 예측\n",
    "pred = model.predict(sound)\n",
    "print('내 음성 예측 결과 :',labels[pred.argmax()])"
   ]
  }
 ],
 "metadata": {
  "interpreter": {
   "hash": "50558415ac93d9881e18c8c056ce7448705d901c127a568288521ecc940a9623"
  },
  "kernelspec": {
   "display_name": "Python 3.9.7 64-bit (conda)",
   "language": "python",
   "name": "python3"
  },
  "language_info": {
   "codemirror_mode": {
    "name": "ipython",
    "version": 3
   },
   "file_extension": ".py",
   "mimetype": "text/x-python",
   "name": "python",
   "nbconvert_exporter": "python",
   "pygments_lexer": "ipython3",
   "version": "3.9.7"
  },
  "orig_nbformat": 4
 },
 "nbformat": 4,
 "nbformat_minor": 2
}
