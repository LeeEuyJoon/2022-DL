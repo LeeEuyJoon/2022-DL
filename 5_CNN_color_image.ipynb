{
 "cells": [
  {
   "cell_type": "markdown",
   "metadata": {},
   "source": [
    "# [CNN으로 컬러 이미지 분류]"
   ]
  },
  {
   "cell_type": "code",
   "execution_count": 1,
   "metadata": {},
   "outputs": [],
   "source": [
    "# package 수입\n",
    "import numpy as np\n",
    "import matplotlib.pyplot as plt\n",
    "from time import time\n",
    "\n",
    "from keras.utils.np_utils import to_categorical\n",
    "from keras.datasets import cifar10\n",
    "\n",
    "from keras.models import Sequential\n",
    "from keras.layers import Conv2D, MaxPool2D, Flatten\n",
    "from keras.layers import Dropout, InputLayer,Dense"
   ]
  },
  {
   "cell_type": "code",
   "execution_count": 2,
   "metadata": {},
   "outputs": [],
   "source": [
    "# 하이퍼 파라미터\n",
    "MY_DROP = 0.1       # dropout에 사용\n",
    "MY_EPOCH = 20       # 반복 학습 수\n",
    "MY_BATCH = 500      # 매번 가져와서 계산하는 학습용 데이터"
   ]
  },
  {
   "cell_type": "code",
   "execution_count": 3,
   "metadata": {},
   "outputs": [
    {
     "name": "stdout",
     "output_type": "stream",
     "text": [
      "[[[153 157 155]\n",
      "  [174 180 188]\n",
      "  [155 165 172]\n",
      "  ...\n",
      "  [122 125 123]\n",
      "  [138 143 141]\n",
      "  [ 97 101  97]]\n",
      "\n",
      " [[160 163 165]\n",
      "  [164 170 180]\n",
      "  [150 159 169]\n",
      "  ...\n",
      "  [137 135 129]\n",
      "  [160 161 157]\n",
      "  [103 109 107]]\n",
      "\n",
      " [[140 143 147]\n",
      "  [147 152 166]\n",
      "  [136 145 158]\n",
      "  ...\n",
      "  [104 103  99]\n",
      "  [125 128 125]\n",
      "  [ 93 102 101]]\n",
      "\n",
      " ...\n",
      "\n",
      " [[175 177 179]\n",
      "  [170 172 174]\n",
      "  [170 172 174]\n",
      "  ...\n",
      "  [193 203 212]\n",
      "  [197 206 214]\n",
      "  [199 204 213]]\n",
      "\n",
      " [[174 177 181]\n",
      "  [173 176 180]\n",
      "  [171 174 178]\n",
      "  ...\n",
      "  [200 208 216]\n",
      "  [202 209 218]\n",
      "  [208 212 221]]\n",
      "\n",
      " [[168 173 180]\n",
      "  [164 169 175]\n",
      "  [166 171 177]\n",
      "  ...\n",
      "  [204 209 217]\n",
      "  [204 208 217]\n",
      "  [206 210 219]]]\n",
      "라벨 : [4]\n",
      "X_train 모양\t: (50000, 32, 32, 3)\n",
      "X_test 모양\t: (10000, 32, 32, 3)\n",
      "Y_train 모양\t: (50000, 1)\n",
      "Y_test 모양\t: (10000, 1)\n"
     ]
    },
    {
     "data": {
      "image/png": "[encoded data removed]",
      "text/plain": [
       "<Figure size 432x288 with 1 Axes>"
      ]
     },
     "metadata": {
      "needs_background": "light"
     },
     "output_type": "display_data"
    }
   ],
   "source": [
    "# 데이터 불러오기\n",
    "(X_train, Y_train), (X_test, Y_test) = cifar10.load_data()\n",
    "\n",
    "# 데이터 샘플\n",
    "print(X_train[20])\n",
    "plt.imshow(X_train[20])\n",
    "print('라벨 :',Y_train[20])\n",
    "\n",
    "# 데이터 모양\n",
    "print(\"X_train 모양\\t:\",X_train.shape)\n",
    "print(\"X_test 모양\\t:\",X_test.shape)\n",
    "print(\"Y_train 모양\\t:\",Y_train.shape)\n",
    "print(\"Y_test 모양\\t:\",Y_test.shape)"
   ]
  },
  {
   "cell_type": "code",
   "execution_count": 4,
   "metadata": {},
   "outputs": [
    {
     "name": "stdout",
     "output_type": "stream",
     "text": [
      "전 :  [6]\n",
      "후 :  [0. 0. 0. 0. 0. 0. 1. 0. 0. 0.]\n",
      "X_train 모양\t: (50000, 32, 32, 3)\n",
      "X_test 모양\t: (10000, 32, 32, 3)\n",
      "Y_train 모양\t: (50000, 10)\n",
      "Y_test 모양\t: (10000, 10)\n"
     ]
    }
   ],
   "source": [
    "# 데이터 추가 처리\n",
    "# 화소 데이터 [0,1] 스케일링\n",
    "X_train = X_train / 255\n",
    "X_test = X_test / 255\n",
    "\n",
    "# print(X_train[0])\n",
    "# plt.imshow(X_train[0])\n",
    "\n",
    "# 출력 데이터 처리 (원-핫)\n",
    "print('전 : ',Y_train[0])\n",
    "Y_train = to_categorical(Y_train, 10)\n",
    "print('후 : ',Y_train[0])\n",
    "Y_test = to_categorical(Y_test,10)\n",
    "\n",
    "print(\"X_train 모양\\t:\",X_train.shape)\n",
    "print(\"X_test 모양\\t:\",X_test.shape)\n",
    "print(\"Y_train 모양\\t:\",Y_train.shape)\n",
    "print(\"Y_test 모양\\t:\",Y_test.shape)"
   ]
  },
  {
   "cell_type": "code",
   "execution_count": 5,
   "metadata": {},
   "outputs": [
    {
     "name": "stdout",
     "output_type": "stream",
     "text": [
      "Model: \"sequential\"\n",
      "_________________________________________________________________\n",
      " Layer (type)                Output Shape              Param #   \n",
      "=================================================================\n",
      " conv2d (Conv2D)             (None, 32, 32, 16)        448       \n",
      "                                                                 \n",
      " dropout (Dropout)           (None, 32, 32, 16)        0         \n",
      "                                                                 \n",
      " conv2d_1 (Conv2D)           (None, 32, 32, 32)        4640      \n",
      "                                                                 \n",
      " max_pooling2d (MaxPooling2D  (None, 16, 16, 32)       0         \n",
      " )                                                               \n",
      "                                                                 \n",
      " flatten (Flatten)           (None, 8192)              0         \n",
      "                                                                 \n",
      " dropout_1 (Dropout)         (None, 8192)              0         \n",
      "                                                                 \n",
      " dense (Dense)               (None, 128)               1048704   \n",
      "                                                                 \n",
      " dense_1 (Dense)             (None, 10)                1290      \n",
      "                                                                 \n",
      "=================================================================\n",
      "Total params: 1,055,082\n",
      "Trainable params: 1,055,082\n",
      "Non-trainable params: 0\n",
      "_________________________________________________________________\n"
     ]
    }
   ],
   "source": [
    "# CNN 구현\n",
    "model = Sequential()\n",
    "\n",
    "# 입력층\n",
    "model.add(InputLayer(input_shape=(32,32,3)))\n",
    "\n",
    "# 첫 번째 합성곱 블럭\n",
    "model.add(Conv2D(filters=16,\n",
    "                kernel_size = 3,\n",
    "                padding='same',\n",
    "                activation='relu'))\n",
    "model.add(Dropout(MY_DROP))\n",
    "\n",
    "# 두 번째 합성곱 블럭\n",
    "model.add(Conv2D(filters=32,\n",
    "                kernel_size = 3,\n",
    "                padding='same',\n",
    "                activation='relu'))\n",
    "model.add(MaxPool2D(pool_size=2)) # pool_size >> 몇배로 줄이느냐 // pool_size=2 >> 1/2로 줄인다\n",
    "\n",
    "# 후반부 시작\n",
    "model.add(Flatten())\n",
    "model.add(Dropout(MY_DROP))\n",
    "model.add(Dense(units=128,\n",
    "                activation='relu'))\n",
    "\n",
    "# 출력층\n",
    "model.add(Dense(units=10,\n",
    "                activation='softmax'))\n",
    "\n",
    "model.summary()"
   ]
  },
  {
   "cell_type": "code",
   "execution_count": null,
   "metadata": {},
   "outputs": [],
   "source": [
    "# CNN 학습\n",
    "model.compile(optimizer='adam',\n",
    "                loss = 'categorical_crossentropy',\n",
    "                metrics=['acc'])\n",
    "\n",
    "print('학습 시작')\n",
    "begin = time()\n",
    "\n",
    "model.fit(X_train,\n",
    "            Y_train,\n",
    "            epochs=MY_EPOCH,\n",
    "            batch_size=MY_BATCH,\n",
    "            verbose=1)\n",
    "\n",
    "end = time()\n",
    "print('학습 시간 : ',end-begin)"
   ]
  },
  {
   "cell_type": "code",
   "execution_count": null,
   "metadata": {},
   "outputs": [],
   "source": [
    "# CNN 평가\n",
    "score = model.evaluate(X_test,\n",
    "                        Y_test)\n",
    "print('최종 정확도:',score[1])"
   ]
  },
  {
   "cell_type": "code",
   "execution_count": null,
   "metadata": {},
   "outputs": [],
   "source": [
    "# CNN 예측\n",
    "pred = model.predict(X_test)\n",
    "\n",
    "print('평가용 이미지 20번의 예측',pred[20])\n",
    "print('평가용 이미지 20번의 정답',Y_test[20])\n",
    "plt.imshow(X_test[20])"
   ]
  }
 ],
 "metadata": {
  "interpreter": {
   "hash": "50558415ac93d9881e18c8c056ce7448705d901c127a568288521ecc940a9623"
  },
  "kernelspec": {
   "display_name": "Python 3.9.7 64-bit (conda)",
   "language": "python",
   "name": "python3"
  },
  "language_info": {
   "codemirror_mode": {
    "name": "ipython",
    "version": 3
   },
   "file_extension": ".py",
   "mimetype": "text/x-python",
   "name": "python",
   "nbconvert_exporter": "python",
   "pygments_lexer": "ipython3",
   "version": "3.9.7"
  },
  "orig_nbformat": 4
 },
 "nbformat": 4,
 "nbformat_minor": 2
}
