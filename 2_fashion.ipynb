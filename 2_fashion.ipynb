{
 "cells": [
  {
   "cell_type": "markdown",
   "metadata": {},
   "source": [
    "# CNN으로 패션아이템 구분하기"
   ]
  },
  {
   "cell_type": "code",
   "execution_count": 8,
   "metadata": {},
   "outputs": [],
   "source": [
    "# 패키지 수입\n",
    "import matplotlib.pyplot as plt\n",
    "import numpy as np\n",
    "from time import time\n",
    "\n",
    "from keras.datasets import fashion_mnist\n",
    "from keras.models import Sequential\n",
    "from keras.utils import np_utils\n",
    "\n",
    "from keras.layers import Dense\n",
    "from keras.layers import Flatten, Conv2D, MaxPool2D\n",
    "from keras.layers import InputLayer"
   ]
  },
  {
   "cell_type": "code",
   "execution_count": 9,
   "metadata": {},
   "outputs": [],
   "source": [
    "# 하이퍼 파라미터\n",
    "\n",
    "MY_EPOCH = 10   # 반복 학습 수\n",
    "MY_BATCH = 500  # 매번 가져와서 계산하는 학습용 데이터"
   ]
  },
  {
   "cell_type": "code",
   "execution_count": 10,
   "metadata": {},
   "outputs": [
    {
     "name": "stdout",
     "output_type": "stream",
     "text": [
      "X_train 모양 : (60000, 28, 28)\n",
      "Y_train 모양 : (60000,)\n",
      "X_test 모양  : (10000, 28, 28)\n",
      "Y_test 모양  : (10000,)\n",
      "0번 학습용 이미지 라벨: 9\n"
     ]
    },
    {
     "data": {
      "image/png": "[encoded data removed]",
      "text/plain": [
       "<Figure size 432x288 with 1 Axes>"
      ]
     },
     "metadata": {
      "needs_background": "light"
     },
     "output_type": "display_data"
    }
   ],
   "source": [
    "# 데이터 불러오기\n",
    "\n",
    "(X_train, Y_train), (X_test, Y_test) = fashion_mnist.load_data()\n",
    "\n",
    "print('X_train 모양 :', X_train.shape)\n",
    "print('Y_train 모양 :', Y_train.shape)\n",
    "print('X_test 모양  :', X_test.shape)\n",
    "print('Y_test 모양  :', Y_test.shape)\n",
    "\n",
    "# display(X_train[0])\n",
    "# 수치 데이터는 8-bit 화소 정수 [0,255]\n",
    "plt.imshow(X_train[0],cmap='gray')\n",
    "print('0번 학습용 이미지 라벨:', Y_train[0])\n"
   ]
  },
  {
   "cell_type": "code",
   "execution_count": 11,
   "metadata": {},
   "outputs": [
    {
     "name": "stdout",
     "output_type": "stream",
     "text": [
      "X_train  채널 추가 전 : (60000, 28, 28)\n",
      "X_train  채널 추가 후 : (60000, 28, 28, 1)\n",
      "X_test   채널 추가 전 : (10000, 28, 28)\n",
      "X_test   채널 추가 후 : (10000, 28, 28, 1)\n"
     ]
    }
   ],
   "source": [
    "# 입렫 데이터 추가 처리\n",
    "X_train = X_train / 255\n",
    "# print(X_train[0])\n",
    "# plt.imshow(X_train[0],cmap='gray')\n",
    "X_test = X_test / 255\n",
    "\n",
    "# 이미이 채널 정보 추가\n",
    "# keras convolution (합성곱) 함수가 원해서\n",
    "print('X_train  채널 추가 전 :',X_train.shape)\n",
    "X_train = np.expand_dims(X_train,axis=3)\n",
    "print('X_train  채널 추가 후 :',X_train.shape)\n",
    "print('X_test   채널 추가 전 :',X_test.shape)\n",
    "X_test = np.expand_dims(X_test,axis=3)\n",
    "print('X_test   채널 추가 후 :',X_test.shape)"
   ]
  },
  {
   "cell_type": "code",
   "execution_count": 12,
   "metadata": {},
   "outputs": [
    {
     "name": "stdout",
     "output_type": "stream",
     "text": [
      "Y_train  원핫 인코딩 전: 9\n",
      "Y_train  원핫 인코딩 후: [0. 0. 0. 0. 0. 0. 0. 0. 0. 1.]\n",
      "Y_test   원핫 인코딩 전: 9\n",
      "Y_test   원핫 인코딩 후: [0. 0. 0. 0. 0. 0. 0. 0. 0. 1.]\n"
     ]
    }
   ],
   "source": [
    "# 출력 데이터 (=라벨) 추가 처리 /  원핫\n",
    "print('Y_train  원핫 인코딩 전:',Y_train[0])\n",
    "Y_train = np_utils.to_categorical(Y_train, 10)\n",
    "print('Y_train  원핫 인코딩 후:',Y_train[0])\n",
    "print('Y_test   원핫 인코딩 전:',Y_test[0])\n",
    "Y_test = np_utils.to_categorical(Y_test, 10)\n",
    "print('Y_test   원핫 인코딩 후:',Y_test[0])\n"
   ]
  },
  {
   "cell_type": "code",
   "execution_count": 13,
   "metadata": {},
   "outputs": [
    {
     "name": "stdout",
     "output_type": "stream",
     "text": [
      "X_train 모양 : (60000, 28, 28, 1)\n",
      "Y_train 모양 : (60000, 10)\n",
      "X_test 모양  : (10000, 28, 28, 1)\n",
      "Y_test 모양  : (10000, 10)\n"
     ]
    }
   ],
   "source": [
    "# 최종 데이터 모양 확인\n",
    "\n",
    "print('X_train 모양 :', X_train.shape)\n",
    "print('Y_train 모양 :', Y_train.shape)\n",
    "print('X_test 모양  :', X_test.shape)\n",
    "print('Y_test 모양  :', Y_test.shape)"
   ]
  },
  {
   "cell_type": "code",
   "execution_count": 14,
   "metadata": {},
   "outputs": [
    {
     "name": "stdout",
     "output_type": "stream",
     "text": [
      "Model: \"sequential_1\"\n",
      "_________________________________________________________________\n",
      " Layer (type)                Output Shape              Param #   \n",
      "=================================================================\n",
      " conv2d_2 (Conv2D)           (None, 28, 28, 32)        160       \n",
      "                                                                 \n",
      " max_pooling2d_2 (MaxPooling  (None, 14, 14, 32)       0         \n",
      " 2D)                                                             \n",
      "                                                                 \n",
      " conv2d_3 (Conv2D)           (None, 14, 14, 64)        8256      \n",
      "                                                                 \n",
      " max_pooling2d_3 (MaxPooling  (None, 7, 7, 64)         0         \n",
      " 2D)                                                             \n",
      "                                                                 \n",
      " flatten_1 (Flatten)         (None, 3136)              0         \n",
      "                                                                 \n",
      " dense (Dense)               (None, 128)               401536    \n",
      "                                                                 \n",
      " dense_1 (Dense)             (None, 10)                1290      \n",
      "                                                                 \n",
      "=================================================================\n",
      "Total params: 411,242\n",
      "Trainable params: 411,242\n",
      "Non-trainable params: 0\n",
      "_________________________________________________________________\n"
     ]
    }
   ],
   "source": [
    "# 인공 신경망 구현 : CNN\n",
    "model = Sequential()\n",
    "model.add(InputLayer(input_shape=(28,28,1)))\n",
    "\n",
    "# 첫번째 합성곱 블럭 추가\n",
    "model.add(Conv2D(filters=32,\n",
    "                kernel_size=2,\n",
    "                padding='same',\n",
    "                activation='relu'))\n",
    "model.add(MaxPool2D(pool_size=2))\n",
    "\n",
    "# 두번째 합성곱 블럭 추가\n",
    "model.add(Conv2D(filters=64,\n",
    "                kernel_size=2,\n",
    "                padding='same',\n",
    "                activation='relu'))\n",
    "model.add(MaxPool2D(pool_size=2))\n",
    "\n",
    "# 화소를 뉴런화\n",
    "model.add(Flatten())\n",
    "\n",
    "model.add(Dense(units=128,\n",
    "                activation='relu'))\n",
    "\n",
    "# 출력층\n",
    "model.add(Dense(units=10,\n",
    "                activation='softmax'))\n",
    "\n",
    "# CNN 요약\n",
    "model.summary()"
   ]
  },
  {
   "cell_type": "code",
   "execution_count": 15,
   "metadata": {},
   "outputs": [],
   "source": [
    "# CNN 학습\n",
    "# 1. 학습 환경 설정\n",
    "model.compile(optimizer='adam',\n",
    "                loss = 'categorical_crossentropy',\n",
    "                metrics= ['acc'])\n",
    "\n",
    "# 2. 반복 학습 진행\n",
    "print('학습 시작!')\n",
    "begin = time()\n",
    "model.fit(X_train,\n",
    "            Y_train,\n",
    "            epochs=MY_EPOCH,\n",
    "            batch_size = MY_BATCH,\n",
    "            verbose=1)\n",
    "\n",
    "end = time()\n",
    "print('총 학습 시간 : ',end-begin)"
   ]
  }
 ],
 "metadata": {
  "interpreter": {
   "hash": "50558415ac93d9881e18c8c056ce7448705d901c127a568288521ecc940a9623"
  },
  "kernelspec": {
   "display_name": "Python 3.9.7 64-bit (conda)",
   "language": "python",
   "name": "python3"
  },
  "language_info": {
   "codemirror_mode": {
    "name": "ipython",
    "version": 3
   },
   "file_extension": ".py",
   "mimetype": "text/x-python",
   "name": "python",
   "nbconvert_exporter": "python",
   "pygments_lexer": "ipython3",
   "version": "3.9.7"
  },
  "orig_nbformat": 4
 },
 "nbformat": 4,
 "nbformat_minor": 2
}
